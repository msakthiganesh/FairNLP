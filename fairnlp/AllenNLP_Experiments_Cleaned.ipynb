{
 "cells": [
  {
   "cell_type": "code",
   "execution_count": 1,
   "metadata": {},
   "outputs": [],
   "source": [
    "from allennlp.interpret.saliency_interpreters import SimpleGradient\n",
    "from allennlp.predictors import Predictor"
   ]
  },
  {
   "cell_type": "code",
   "execution_count": 35,
   "metadata": {},
   "outputs": [
    {
     "data": {
      "text/plain": [
       "('The doctor ran to the emergency room to see [MASK] patient.', 11)"
      ]
     },
     "execution_count": 35,
     "metadata": {},
     "output_type": "execute_result"
    }
   ],
   "source": [
    "# sentence = \"The nurse ran to the emergency room to see [MASK] patient.\"\n",
    "sentence = \"The doctor ran to the emergency room to see [MASK] patient.\"\n",
    "# sentence = \"some [MASK] string\"\n",
    "# sentence = \"The [MASK] taught the students in class.\"\n",
    "\n",
    "sentence, len(sentence.split(\" \"))"
   ]
  },
  {
   "cell_type": "code",
   "execution_count": 36,
   "metadata": {},
   "outputs": [
    {
     "data": {
      "text/plain": [
       "{'sentence': 'The doctor ran to the emergency room to see [MASK] patient.'}"
      ]
     },
     "execution_count": 36,
     "metadata": {},
     "output_type": "execute_result"
    }
   ],
   "source": [
    "inputs = {\"sentence\": sentence}\n",
    "inputs"
   ]
  },
  {
   "cell_type": "code",
   "execution_count": 37,
   "metadata": {},
   "outputs": [],
   "source": [
    "# archive = (\n",
    "#     \"https://storage.googleapis.com/allennlp-public-models/bert-masked-lm-2020-10-07.tar.gz\"\n",
    "# )"
   ]
  },
  {
   "attachments": {},
   "cell_type": "markdown",
   "metadata": {},
   "source": [
    "### Model - AllenNLP"
   ]
  },
  {
   "cell_type": "code",
   "execution_count": 38,
   "metadata": {},
   "outputs": [
    {
     "name": "stderr",
     "output_type": "stream",
     "text": [
      "Some weights of the model checkpoint at bert-base-cased were not used when initializing BertForMaskedLM: ['cls.seq_relationship.bias', 'cls.seq_relationship.weight']\n",
      "- This IS expected if you are initializing BertForMaskedLM from the checkpoint of a model trained on another task or with another architecture (e.g. initializing a BertForSequenceClassification model from a BertForPreTraining model).\n",
      "- This IS NOT expected if you are initializing BertForMaskedLM from the checkpoint of a model that you expect to be exactly identical (initializing a BertForSequenceClassification model from a BertForSequenceClassification model).\n"
     ]
    },
    {
     "data": {
      "text/plain": [
       "<allennlp_models.lm.predictors.masked_language_model.MaskedLanguageModelPredictor at 0x7fe661b58ca0>"
      ]
     },
     "execution_count": 38,
     "metadata": {},
     "output_type": "execute_result"
    }
   ],
   "source": [
    "predictor = Predictor.from_path(\"models/bert-masked-lm-2020-10-07/\")\n",
    "predictor"
   ]
  },
  {
   "cell_type": "code",
   "execution_count": 39,
   "metadata": {},
   "outputs": [
    {
     "data": {
      "text/plain": [
       "{'probabilities': [[0.3828469514846802,\n",
       "   0.3691021203994751,\n",
       "   0.08115176111459732,\n",
       "   0.07295342534780502,\n",
       "   0.059848736971616745]],\n",
       " 'top_indices': [[1117, 1103, 1330, 170, 1123]],\n",
       " 'token_ids': [101,\n",
       "  1109,\n",
       "  3995,\n",
       "  1868,\n",
       "  1106,\n",
       "  1103,\n",
       "  5241,\n",
       "  1395,\n",
       "  1106,\n",
       "  1267,\n",
       "  103,\n",
       "  5351,\n",
       "  119,\n",
       "  102],\n",
       " 'words': [['his', 'the', 'another', 'a', 'her']],\n",
       " 'tokens': ['[CLS]',\n",
       "  'The',\n",
       "  'doctor',\n",
       "  'ran',\n",
       "  'to',\n",
       "  'the',\n",
       "  'emergency',\n",
       "  'room',\n",
       "  'to',\n",
       "  'see',\n",
       "  '[MASK]',\n",
       "  'patient',\n",
       "  '.',\n",
       "  '[SEP]']}"
      ]
     },
     "execution_count": 39,
     "metadata": {},
     "output_type": "execute_result"
    }
   ],
   "source": [
    "preds = predictor.predict(sentence)\n",
    "preds"
   ]
  },
  {
   "attachments": {},
   "cell_type": "markdown",
   "metadata": {},
   "source": [
    "### Model - BERT-Base"
   ]
  },
  {
   "cell_type": "code",
   "execution_count": 7,
   "metadata": {},
   "outputs": [
    {
     "name": "stderr",
     "output_type": "stream",
     "text": [
      "Some weights of the model checkpoint at models/roberta-base/ were not used when initializing RobertaModel: ['lm_head.bias', 'lm_head.decoder.weight', 'lm_head.layer_norm.bias', 'lm_head.dense.bias', 'lm_head.dense.weight', 'lm_head.layer_norm.weight']\n",
      "- This IS expected if you are initializing RobertaModel from the checkpoint of a model trained on another task or with another architecture (e.g. initializing a BertForSequenceClassification model from a BertForPreTraining model).\n",
      "- This IS NOT expected if you are initializing RobertaModel from the checkpoint of a model that you expect to be exactly identical (initializing a BertForSequenceClassification model from a BertForSequenceClassification model).\n"
     ]
    }
   ],
   "source": [
    "from transformers.models.auto import AutoConfig, AutoModel\n",
    "from transformers.models.auto.tokenization_auto import AutoTokenizer\n",
    "\n",
    "model_uri = 'models/roberta-base/'\n",
    "\n",
    "config = AutoConfig.from_pretrained(model_uri)\n",
    "tokenizer = AutoTokenizer.from_pretrained(model_uri)\n",
    "classifier = AutoModel.from_pretrained(model_uri, config=config)"
   ]
  },
  {
   "cell_type": "code",
   "execution_count": 3,
   "metadata": {},
   "outputs": [
    {
     "data": {
      "text/plain": [
       "('models/allennlp-roberta-base/tokenizer_config.json',\n",
       " 'models/allennlp-roberta-base/special_tokens_map.json',\n",
       " 'models/allennlp-roberta-base/vocab.json',\n",
       " 'models/allennlp-roberta-base/merges.txt',\n",
       " 'models/allennlp-roberta-base/added_tokens.json',\n",
       " 'models/allennlp-roberta-base/tokenizer.json')"
      ]
     },
     "execution_count": 3,
     "metadata": {},
     "output_type": "execute_result"
    }
   ],
   "source": [
    "model_path = 'models/allennlp-roberta-base'\n",
    "model_name = 'allennlp-roberta-base'\n",
    "classifier.save_pretrained(model_path)\n",
    "tokenizer.save_pretrained(model_path)"
   ]
  },
  {
   "cell_type": "code",
   "execution_count": 5,
   "metadata": {},
   "outputs": [],
   "source": [
    "from allennlp.data.vocabulary import Vocabulary\n",
    "\n",
    "transformer_vocab = Vocabulary.from_pretrained_transformer(model_path)"
   ]
  },
  {
   "cell_type": "code",
   "execution_count": 6,
   "metadata": {},
   "outputs": [],
   "source": [
    "from allennlp.data.tokenizers.pretrained_transformer_tokenizer import PretrainedTransformerTokenizer\n",
    "from allennlp.data.token_indexers.pretrained_transformer_indexer import PretrainedTransformerIndexer\n",
    "\n",
    "transformer_tokenizer = PretrainedTransformerTokenizer(model_path)\n",
    "token_indexer = PretrainedTransformerIndexer(model_path)"
   ]
  },
  {
   "cell_type": "code",
   "execution_count": 7,
   "metadata": {},
   "outputs": [],
   "source": [
    "from allennlp.modules.text_field_embedders import BasicTextFieldEmbedder\n",
    "from allennlp.modules.token_embedders.pretrained_transformer_embedder import PretrainedTransformerEmbedder\n",
    "\n",
    "token_embedder = BasicTextFieldEmbedder(\n",
    "  { \n",
    "    \"tokens\": PretrainedTransformerEmbedder(model_path) \n",
    "  })"
   ]
  },
  {
   "cell_type": "code",
   "execution_count": 9,
   "metadata": {},
   "outputs": [],
   "source": [
    "from allennlp.modules.seq2vec_encoders.bert_pooler import BertPooler\n",
    "\n",
    "transformer_encoder = BertPooler(model_path)"
   ]
  },
  {
   "cell_type": "code",
   "execution_count": 14,
   "metadata": {},
   "outputs": [],
   "source": [
    "from allennlp.models import MultiTaskModel\n",
    "# \n",
    "# model = BasicClassifier(vocab=transformer_vocab, \n",
    "#                         text_field_embedder=token_embedder, \n",
    "#                         seq2vec_encoder=transformer_encoder, \n",
    "#                         dropout=0.1, \n",
    "#                         num_labels=5)"
   ]
  },
  {
   "cell_type": "code",
   "execution_count": 15,
   "metadata": {},
   "outputs": [],
   "source": [
    "from allennlp_models.lm.models import masked_language_model as MLM\n",
    "\n",
    "model = MLM(vocab: Vocabulary,\n",
    "        text_field_embedder: TextFieldEmbedder,\n",
    "        language_model_head: LanguageModelHead,\n",
    "        contextualizer = transformer_encoder,\n",
    "        target_namespace: str = \"roberta\",\n",
    "        dropout: float = 0.1\n",
    "        )"
   ]
  },
  {
   "cell_type": "code",
   "execution_count": null,
   "metadata": {},
   "outputs": [],
   "source": []
  },
  {
   "cell_type": "code",
   "execution_count": null,
   "metadata": {},
   "outputs": [],
   "source": []
  },
  {
   "cell_type": "code",
   "execution_count": null,
   "metadata": {},
   "outputs": [],
   "source": []
  },
  {
   "attachments": {},
   "cell_type": "markdown",
   "metadata": {},
   "source": [
    "### Applying SimpleGradient for Word Importance"
   ]
  },
  {
   "cell_type": "code",
   "execution_count": 40,
   "metadata": {},
   "outputs": [
    {
     "data": {
      "text/plain": [
       "<allennlp.interpret.saliency_interpreters.simple_gradient.SimpleGradient at 0x7fe597121f30>"
      ]
     },
     "execution_count": 40,
     "metadata": {},
     "output_type": "execute_result"
    }
   ],
   "source": [
    "interpreter = SimpleGradient(predictor)\n",
    "interpreter"
   ]
  },
  {
   "cell_type": "code",
   "execution_count": 41,
   "metadata": {},
   "outputs": [
    {
     "name": "stderr",
     "output_type": "stream",
     "text": [
      "/Users/sakthi/opt/anaconda3/envs/fnlp/lib/python3.10/site-packages/torch/nn/modules/module.py:1053: UserWarning: Using a non-full backward hook when the forward contains multiple autograd Nodes is deprecated and will be removed in future versions. This hook will be missing some grad_input. Please use register_full_backward_hook to get the documented behavior.\n",
      "  warnings.warn(\"Using a non-full backward hook when the forward contains multiple autograd Nodes \"\n"
     ]
    },
    {
     "name": "stdout",
     "output_type": "stream",
     "text": [
      "{'instance_1': {'grad_input_1': [0.00634726315979337, 0.02781314066772619, 0.1904769153366855, 0.07233389772839216, 0.03771242259156962, 0.06416733700697969, 0.04216160963962355, 0.030878413385859126, 0.014115116700583023, 0.14565831065275972, 0.0067774734223451346, 0.2893705709912004, 0.04854366943842647, 0.023643730871020476]}}\n"
     ]
    }
   ],
   "source": [
    "interpretation = interpreter.saliency_interpret_from_json(inputs)\n",
    "print(interpretation)"
   ]
  },
  {
   "cell_type": "code",
   "execution_count": 42,
   "metadata": {},
   "outputs": [
    {
     "data": {
      "text/plain": [
       "[0.00634726315979337,\n",
       " 0.02781314066772619,\n",
       " 0.1904769153366855,\n",
       " 0.07233389772839216,\n",
       " 0.03771242259156962,\n",
       " 0.06416733700697969,\n",
       " 0.04216160963962355,\n",
       " 0.030878413385859126,\n",
       " 0.014115116700583023,\n",
       " 0.14565831065275972,\n",
       " 0.0067774734223451346,\n",
       " 0.2893705709912004,\n",
       " 0.04854366943842647,\n",
       " 0.023643730871020476]"
      ]
     },
     "execution_count": 42,
     "metadata": {},
     "output_type": "execute_result"
    }
   ],
   "source": [
    "word_importances = interpretation[\"instance_1\"][\"grad_input_1\"]\n",
    "word_importances"
   ]
  },
  {
   "cell_type": "code",
   "execution_count": 43,
   "metadata": {},
   "outputs": [
    {
     "data": {
      "text/plain": [
       "['[CLS]',\n",
       " 'The',\n",
       " 'doctor',\n",
       " 'ran',\n",
       " 'to',\n",
       " 'the',\n",
       " 'emergency',\n",
       " 'room',\n",
       " 'to',\n",
       " 'see',\n",
       " '[MASK]',\n",
       " 'patient',\n",
       " '.',\n",
       " '[SEP]']"
      ]
     },
     "execution_count": 43,
     "metadata": {},
     "output_type": "execute_result"
    }
   ],
   "source": [
    "preds[\"tokens\"]"
   ]
  },
  {
   "cell_type": "code",
   "execution_count": 44,
   "metadata": {},
   "outputs": [
    {
     "name": "stdout",
     "output_type": "stream",
     "text": [
      "['[CLS]', 'The', 'doctor', 'ran', 'to', 'the', 'emergency', 'room', 'to', 'see', '[MASK]', 'patient', '.', '[SEP]']\n"
     ]
    },
    {
     "data": {
      "text/plain": [
       "(14, 14)"
      ]
     },
     "execution_count": 44,
     "metadata": {},
     "output_type": "execute_result"
    }
   ],
   "source": [
    "print(preds[\"tokens\"])\n",
    "len(preds[\"tokens\"]), len(word_importances)"
   ]
  },
  {
   "cell_type": "code",
   "execution_count": 45,
   "metadata": {},
   "outputs": [
    {
     "name": "stdout",
     "output_type": "stream",
     "text": [
      "Original Sentence: The doctor ran to the emergency room to see [MASK] patient. --- Predictions: [['his', 'the', 'another', 'a', 'her']]\n",
      "\n",
      "Token: [CLS] --- Word Importance: 0.00634726315979337\n",
      "Token: The --- Word Importance: 0.02781314066772619\n",
      "Token: doctor --- Word Importance: 0.1904769153366855\n",
      "Token: ran --- Word Importance: 0.07233389772839216\n",
      "Token: to --- Word Importance: 0.03771242259156962\n",
      "Token: the --- Word Importance: 0.06416733700697969\n",
      "Token: emergency --- Word Importance: 0.04216160963962355\n",
      "Token: room --- Word Importance: 0.030878413385859126\n",
      "Token: to --- Word Importance: 0.014115116700583023\n",
      "Token: see --- Word Importance: 0.14565831065275972\n",
      "Token: [MASK] --- Word Importance: 0.0067774734223451346\n",
      "Token: patient --- Word Importance: 0.2893705709912004\n",
      "Token: . --- Word Importance: 0.04854366943842647\n",
      "Token: [SEP] --- Word Importance: 0.023643730871020476\n"
     ]
    }
   ],
   "source": [
    "print(f\"Original Sentence: {sentence} --- Predictions: {preds['words']}\\n\")\n",
    "\n",
    "for token, word_imp in zip(preds[\"tokens\"], word_importances):\n",
    "    print(f\"Token: {token} --- Word Importance: {word_imp}\")"
   ]
  },
  {
   "cell_type": "code",
   "execution_count": null,
   "metadata": {},
   "outputs": [],
   "source": []
  }
 ],
 "metadata": {
  "kernelspec": {
   "display_name": "fnlp",
   "language": "python",
   "name": "python3"
  },
  "language_info": {
   "codemirror_mode": {
    "name": "ipython",
    "version": 3
   },
   "file_extension": ".py",
   "mimetype": "text/x-python",
   "name": "python",
   "nbconvert_exporter": "python",
   "pygments_lexer": "ipython3",
   "version": "3.10.9"
  },
  "orig_nbformat": 4
 },
 "nbformat": 4,
 "nbformat_minor": 2
}
