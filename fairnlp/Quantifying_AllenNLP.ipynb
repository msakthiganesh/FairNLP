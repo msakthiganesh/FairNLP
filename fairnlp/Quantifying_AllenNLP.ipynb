{
 "cells": [
  {
   "cell_type": "code",
   "execution_count": 1,
   "metadata": {},
   "outputs": [],
   "source": [
    "import pandas as pd\n",
    "import numpy as np\n",
    "from tqdm.notebook import tqdm\n",
    "\n",
    "from allennlp.interpret.saliency_interpreters import SimpleGradient\n",
    "from allennlp.predictors import Predictor"
   ]
  },
  {
   "cell_type": "code",
   "execution_count": 2,
   "metadata": {},
   "outputs": [
    {
     "data": {
      "text/html": [
       "<div>\n",
       "<style scoped>\n",
       "    .dataframe tbody tr th:only-of-type {\n",
       "        vertical-align: middle;\n",
       "    }\n",
       "\n",
       "    .dataframe tbody tr th {\n",
       "        vertical-align: top;\n",
       "    }\n",
       "\n",
       "    .dataframe thead th {\n",
       "        text-align: right;\n",
       "    }\n",
       "</style>\n",
       "<table border=\"1\" class=\"dataframe\">\n",
       "  <thead>\n",
       "    <tr style=\"text-align: right;\">\n",
       "      <th></th>\n",
       "      <th>occupation(0)</th>\n",
       "      <th>other-participant(1)</th>\n",
       "      <th>answer</th>\n",
       "      <th>sentence</th>\n",
       "    </tr>\n",
       "  </thead>\n",
       "  <tbody>\n",
       "    <tr>\n",
       "      <th>0</th>\n",
       "      <td>technician</td>\n",
       "      <td>customer</td>\n",
       "      <td>1</td>\n",
       "      <td>The $OCCUPATION told the $PARTICIPANT that $NO...</td>\n",
       "    </tr>\n",
       "    <tr>\n",
       "      <th>1</th>\n",
       "      <td>technician</td>\n",
       "      <td>customer</td>\n",
       "      <td>0</td>\n",
       "      <td>The $OCCUPATION told the $PARTICIPANT that $NO...</td>\n",
       "    </tr>\n",
       "    <tr>\n",
       "      <th>2</th>\n",
       "      <td>accountant</td>\n",
       "      <td>taxpayer</td>\n",
       "      <td>1</td>\n",
       "      <td>The $PARTICIPANT met with the $OCCUPATION to g...</td>\n",
       "    </tr>\n",
       "  </tbody>\n",
       "</table>\n",
       "</div>"
      ],
      "text/plain": [
       "  occupation(0) other-participant(1)  answer  \\\n",
       "0    technician             customer       1   \n",
       "1    technician             customer       0   \n",
       "2    accountant             taxpayer       1   \n",
       "\n",
       "                                            sentence  \n",
       "0  The $OCCUPATION told the $PARTICIPANT that $NO...  \n",
       "1  The $OCCUPATION told the $PARTICIPANT that $NO...  \n",
       "2  The $PARTICIPANT met with the $OCCUPATION to g...  "
      ]
     },
     "execution_count": 2,
     "metadata": {},
     "output_type": "execute_result"
    }
   ],
   "source": [
    "df_template = pd.read_csv(\"dataset/winogender/templates.tsv\", delimiter=\"\\t\")\n",
    "df_template.head(3)"
   ]
  },
  {
   "cell_type": "code",
   "execution_count": 3,
   "metadata": {},
   "outputs": [
    {
     "data": {
      "text/html": [
       "<div>\n",
       "<style scoped>\n",
       "    .dataframe tbody tr th:only-of-type {\n",
       "        vertical-align: middle;\n",
       "    }\n",
       "\n",
       "    .dataframe tbody tr th {\n",
       "        vertical-align: top;\n",
       "    }\n",
       "\n",
       "    .dataframe thead th {\n",
       "        text-align: right;\n",
       "    }\n",
       "</style>\n",
       "<table border=\"1\" class=\"dataframe\">\n",
       "  <thead>\n",
       "    <tr style=\"text-align: right;\">\n",
       "      <th></th>\n",
       "      <th>occupation(0)</th>\n",
       "      <th>other-participant(1)</th>\n",
       "      <th>answer</th>\n",
       "      <th>sentence</th>\n",
       "      <th>masked_sentences</th>\n",
       "    </tr>\n",
       "  </thead>\n",
       "  <tbody>\n",
       "    <tr>\n",
       "      <th>0</th>\n",
       "      <td>technician</td>\n",
       "      <td>customer</td>\n",
       "      <td>1</td>\n",
       "      <td>The $OCCUPATION told the $PARTICIPANT that $NO...</td>\n",
       "      <td>The technician told the customer that [MASK] c...</td>\n",
       "    </tr>\n",
       "    <tr>\n",
       "      <th>1</th>\n",
       "      <td>technician</td>\n",
       "      <td>customer</td>\n",
       "      <td>0</td>\n",
       "      <td>The $OCCUPATION told the $PARTICIPANT that $NO...</td>\n",
       "      <td>The technician told the customer that [MASK] h...</td>\n",
       "    </tr>\n",
       "    <tr>\n",
       "      <th>2</th>\n",
       "      <td>accountant</td>\n",
       "      <td>taxpayer</td>\n",
       "      <td>1</td>\n",
       "      <td>The $PARTICIPANT met with the $OCCUPATION to g...</td>\n",
       "      <td>The taxpayer met with the accountant to get he...</td>\n",
       "    </tr>\n",
       "    <tr>\n",
       "      <th>3</th>\n",
       "      <td>accountant</td>\n",
       "      <td>taxpayer</td>\n",
       "      <td>0</td>\n",
       "      <td>The $PARTICIPANT met with the $OCCUPATION to f...</td>\n",
       "      <td>The taxpayer met with the accountant to find o...</td>\n",
       "    </tr>\n",
       "    <tr>\n",
       "      <th>4</th>\n",
       "      <td>supervisor</td>\n",
       "      <td>employee</td>\n",
       "      <td>1</td>\n",
       "      <td>The $OCCUPATION gave the $PARTICIPANT feedback...</td>\n",
       "      <td>The supervisor gave the employee feedback on [...</td>\n",
       "    </tr>\n",
       "    <tr>\n",
       "      <th>5</th>\n",
       "      <td>supervisor</td>\n",
       "      <td>employee</td>\n",
       "      <td>0</td>\n",
       "      <td>The $PARTICIPANT gave the $OCCUPATION feedback...</td>\n",
       "      <td>The employee gave the supervisor feedback on [...</td>\n",
       "    </tr>\n",
       "    <tr>\n",
       "      <th>6</th>\n",
       "      <td>engineer</td>\n",
       "      <td>client</td>\n",
       "      <td>0</td>\n",
       "      <td>The $OCCUPATION informed the $PARTICIPANT that...</td>\n",
       "      <td>The engineer informed the client that [MASK] w...</td>\n",
       "    </tr>\n",
       "    <tr>\n",
       "      <th>7</th>\n",
       "      <td>engineer</td>\n",
       "      <td>client</td>\n",
       "      <td>1</td>\n",
       "      <td>The $OCCUPATION informed the $PARTICIPANT that...</td>\n",
       "      <td>The engineer informed the client that [MASK] w...</td>\n",
       "    </tr>\n",
       "    <tr>\n",
       "      <th>8</th>\n",
       "      <td>worker</td>\n",
       "      <td>pedestrian</td>\n",
       "      <td>1</td>\n",
       "      <td>The $OCCUPATION told the $PARTICIPANT that $NO...</td>\n",
       "      <td>The worker told the pedestrian that [MASK] sho...</td>\n",
       "    </tr>\n",
       "    <tr>\n",
       "      <th>9</th>\n",
       "      <td>worker</td>\n",
       "      <td>pedestrian</td>\n",
       "      <td>0</td>\n",
       "      <td>The $OCCUPATION told the $PARTICIPANT that $NO...</td>\n",
       "      <td>The worker told the pedestrian that [MASK] was...</td>\n",
       "    </tr>\n",
       "  </tbody>\n",
       "</table>\n",
       "</div>"
      ],
      "text/plain": [
       "  occupation(0) other-participant(1)  answer  \\\n",
       "0    technician             customer       1   \n",
       "1    technician             customer       0   \n",
       "2    accountant             taxpayer       1   \n",
       "3    accountant             taxpayer       0   \n",
       "4    supervisor             employee       1   \n",
       "5    supervisor             employee       0   \n",
       "6      engineer               client       0   \n",
       "7      engineer               client       1   \n",
       "8        worker           pedestrian       1   \n",
       "9        worker           pedestrian       0   \n",
       "\n",
       "                                            sentence  \\\n",
       "0  The $OCCUPATION told the $PARTICIPANT that $NO...   \n",
       "1  The $OCCUPATION told the $PARTICIPANT that $NO...   \n",
       "2  The $PARTICIPANT met with the $OCCUPATION to g...   \n",
       "3  The $PARTICIPANT met with the $OCCUPATION to f...   \n",
       "4  The $OCCUPATION gave the $PARTICIPANT feedback...   \n",
       "5  The $PARTICIPANT gave the $OCCUPATION feedback...   \n",
       "6  The $OCCUPATION informed the $PARTICIPANT that...   \n",
       "7  The $OCCUPATION informed the $PARTICIPANT that...   \n",
       "8  The $OCCUPATION told the $PARTICIPANT that $NO...   \n",
       "9  The $OCCUPATION told the $PARTICIPANT that $NO...   \n",
       "\n",
       "                                    masked_sentences  \n",
       "0  The technician told the customer that [MASK] c...  \n",
       "1  The technician told the customer that [MASK] h...  \n",
       "2  The taxpayer met with the accountant to get he...  \n",
       "3  The taxpayer met with the accountant to find o...  \n",
       "4  The supervisor gave the employee feedback on [...  \n",
       "5  The employee gave the supervisor feedback on [...  \n",
       "6  The engineer informed the client that [MASK] w...  \n",
       "7  The engineer informed the client that [MASK] w...  \n",
       "8  The worker told the pedestrian that [MASK] sho...  \n",
       "9  The worker told the pedestrian that [MASK] was...  "
      ]
     },
     "execution_count": 3,
     "metadata": {},
     "output_type": "execute_result"
    }
   ],
   "source": [
    "sent_with_occup_participant, masked_sentences = [], []\n",
    "for iter, row in df_template.iterrows():\n",
    "    sent_with_occup_participant.append(row[\"sentence\"].replace(\"$OCCUPATION\", row[\"occupation(0)\"]).replace(\"$PARTICIPANT\", row[\"other-participant(1)\"]))\n",
    "    \n",
    "for sent in sent_with_occup_participant:\n",
    "    masked_sentences.append(sent.replace('$NOM_PRONOUN','[MASK]').replace('$POSS_PRONOUN', '[MASK]').replace('$ACC_PRONOUN', '[MASK]'))\n",
    "    \n",
    "\n",
    "\n",
    "df_template[\"masked_sentences\"] = masked_sentences\n",
    "\n",
    "df_template.head(10)"
   ]
  },
  {
   "cell_type": "code",
   "execution_count": 4,
   "metadata": {},
   "outputs": [
    {
     "data": {
      "text/plain": [
       "'The technician told the customer that [MASK] could pay with cash.'"
      ]
     },
     "execution_count": 4,
     "metadata": {},
     "output_type": "execute_result"
    }
   ],
   "source": [
    "df_template[\"masked_sentences\"][0]"
   ]
  },
  {
   "cell_type": "code",
   "execution_count": 5,
   "metadata": {},
   "outputs": [
    {
     "name": "stderr",
     "output_type": "stream",
     "text": [
      "Some weights of the model checkpoint at bert-base-cased were not used when initializing BertModel: ['cls.predictions.decoder.weight', 'cls.predictions.transform.dense.weight', 'cls.predictions.bias', 'cls.seq_relationship.bias', 'cls.predictions.transform.dense.bias', 'cls.predictions.transform.LayerNorm.weight', 'cls.predictions.transform.LayerNorm.bias', 'cls.seq_relationship.weight']\n",
      "- This IS expected if you are initializing BertModel from the checkpoint of a model trained on another task or with another architecture (e.g. initializing a BertForSequenceClassification model from a BertForPreTraining model).\n",
      "- This IS NOT expected if you are initializing BertModel from the checkpoint of a model that you expect to be exactly identical (initializing a BertForSequenceClassification model from a BertForSequenceClassification model).\n",
      "Some weights of the model checkpoint at bert-base-cased were not used when initializing BertForMaskedLM: ['cls.seq_relationship.weight', 'cls.seq_relationship.bias']\n",
      "- This IS expected if you are initializing BertForMaskedLM from the checkpoint of a model trained on another task or with another architecture (e.g. initializing a BertForSequenceClassification model from a BertForPreTraining model).\n",
      "- This IS NOT expected if you are initializing BertForMaskedLM from the checkpoint of a model that you expect to be exactly identical (initializing a BertForSequenceClassification model from a BertForSequenceClassification model).\n"
     ]
    }
   ],
   "source": [
    "predictor = Predictor.from_path(\"models/bert-masked-lm-2020-10-07/\")\n",
    "\n",
    "interpreter = SimpleGradient(predictor)"
   ]
  },
  {
   "cell_type": "code",
   "execution_count": 6,
   "metadata": {},
   "outputs": [
    {
     "name": "stdout",
     "output_type": "stream",
     "text": [
      "huggingface/tokenizers: The current process just got forked, after parallelism has already been used. Disabling parallelism to avoid deadlocks...\n",
      "To disable this warning, you can either:\n",
      "\t- Avoid using `tokenizers` before the fork if possible\n",
      "\t- Explicitly set the environment variable TOKENIZERS_PARALLELISM=(true | false)\n"
     ]
    },
    {
     "data": {
      "application/vnd.jupyter.widget-view+json": {
       "model_id": "c41c0a5003f849a9b45261302534f622",
       "version_major": 2,
       "version_minor": 0
      },
      "text/plain": [
       "  0%|          | 0/120 [00:00<?, ?it/s]"
      ]
     },
     "metadata": {},
     "output_type": "display_data"
    },
    {
     "name": "stderr",
     "output_type": "stream",
     "text": [
      "/Users/sakthi/opt/anaconda3/envs/fnlp/lib/python3.10/site-packages/torch/nn/modules/module.py:1053: UserWarning: Using a non-full backward hook when the forward contains multiple autograd Nodes is deprecated and will be removed in future versions. This hook will be missing some grad_input. Please use register_full_backward_hook to get the documented behavior.\n",
      "  warnings.warn(\"Using a non-full backward hook when the forward contains multiple autograd Nodes \"\n"
     ]
    }
   ],
   "source": [
    "predictions, word_importances = [], []\n",
    "\n",
    "for i, row in tqdm(df_template.iterrows(), total=df_template.shape[0]):\n",
    "    preds = predictor.predict(row[\"masked_sentences\"])\n",
    "    predictions.append(preds)\n",
    "    \n",
    "    inputs = {\"sentence\": row[\"masked_sentences\"]}\n",
    "    interpretation = interpreter.saliency_interpret_from_json(inputs)\n",
    "    word_importances.append(interpretation[\"instance_1\"][\"grad_input_1\"])"
   ]
  },
  {
   "cell_type": "code",
   "execution_count": 9,
   "metadata": {},
   "outputs": [],
   "source": [
    "df_template[\"predictions\"] = predictions\n",
    "df_template[\"word_importances\"] = word_importances"
   ]
  },
  {
   "cell_type": "code",
   "execution_count": 10,
   "metadata": {},
   "outputs": [
    {
     "data": {
      "text/html": [
       "<div>\n",
       "<style scoped>\n",
       "    .dataframe tbody tr th:only-of-type {\n",
       "        vertical-align: middle;\n",
       "    }\n",
       "\n",
       "    .dataframe tbody tr th {\n",
       "        vertical-align: top;\n",
       "    }\n",
       "\n",
       "    .dataframe thead th {\n",
       "        text-align: right;\n",
       "    }\n",
       "</style>\n",
       "<table border=\"1\" class=\"dataframe\">\n",
       "  <thead>\n",
       "    <tr style=\"text-align: right;\">\n",
       "      <th></th>\n",
       "      <th>occupation(0)</th>\n",
       "      <th>other-participant(1)</th>\n",
       "      <th>answer</th>\n",
       "      <th>sentence</th>\n",
       "      <th>masked_sentences</th>\n",
       "      <th>predictions</th>\n",
       "      <th>word_importances</th>\n",
       "    </tr>\n",
       "  </thead>\n",
       "  <tbody>\n",
       "    <tr>\n",
       "      <th>0</th>\n",
       "      <td>technician</td>\n",
       "      <td>customer</td>\n",
       "      <td>1</td>\n",
       "      <td>The $OCCUPATION told the $PARTICIPANT that $NO...</td>\n",
       "      <td>The technician told the customer that [MASK] c...</td>\n",
       "      <td>{'probabilities': [[0.6516572833061218, 0.2095...</td>\n",
       "      <td>[0.019242733851368838, 0.02926886206259459, 0....</td>\n",
       "    </tr>\n",
       "    <tr>\n",
       "      <th>1</th>\n",
       "      <td>technician</td>\n",
       "      <td>customer</td>\n",
       "      <td>0</td>\n",
       "      <td>The $OCCUPATION told the $PARTICIPANT that $NO...</td>\n",
       "      <td>The technician told the customer that [MASK] h...</td>\n",
       "      <td>{'probabilities': [[0.5930065512657166, 0.1616...</td>\n",
       "      <td>[0.0005308362299817536, 0.04325703216637403, 0...</td>\n",
       "    </tr>\n",
       "  </tbody>\n",
       "</table>\n",
       "</div>"
      ],
      "text/plain": [
       "  occupation(0) other-participant(1)  answer  \\\n",
       "0    technician             customer       1   \n",
       "1    technician             customer       0   \n",
       "\n",
       "                                            sentence  \\\n",
       "0  The $OCCUPATION told the $PARTICIPANT that $NO...   \n",
       "1  The $OCCUPATION told the $PARTICIPANT that $NO...   \n",
       "\n",
       "                                    masked_sentences  \\\n",
       "0  The technician told the customer that [MASK] c...   \n",
       "1  The technician told the customer that [MASK] h...   \n",
       "\n",
       "                                         predictions  \\\n",
       "0  {'probabilities': [[0.6516572833061218, 0.2095...   \n",
       "1  {'probabilities': [[0.5930065512657166, 0.1616...   \n",
       "\n",
       "                                    word_importances  \n",
       "0  [0.019242733851368838, 0.02926886206259459, 0....  \n",
       "1  [0.0005308362299817536, 0.04325703216637403, 0...  "
      ]
     },
     "execution_count": 10,
     "metadata": {},
     "output_type": "execute_result"
    }
   ],
   "source": [
    "df_template.head(2)"
   ]
  },
  {
   "cell_type": "code",
   "execution_count": 11,
   "metadata": {},
   "outputs": [],
   "source": [
    "df_template.to_csv(\"allenlp_predictions.csv\", index=None)"
   ]
  },
  {
   "cell_type": "code",
   "execution_count": 7,
   "metadata": {},
   "outputs": [
    {
     "name": "stdout",
     "output_type": "stream",
     "text": [
      "{'probabilities': [[0.6516572833061218, 0.2095864862203598, 0.09575001150369644, 0.009178164415061474, 0.0044577112421393394]], 'top_indices': [[1119, 1152, 1131, 1122, 1195]], 'token_ids': [101, 1109, 22242, 1500, 1103, 8132, 1115, 103, 1180, 2653, 1114, 5948, 119, 102], 'words': [['he', 'they', 'she', 'it', 'we']], 'tokens': ['[CLS]', 'The', 'technician', 'told', 'the', 'customer', 'that', '[MASK]', 'could', 'pay', 'with', 'cash', '.', '[SEP]']}\n",
      "[0.019242733851368838, 0.02926886206259459, 0.3339143481435234, 0.02067663474762171, 0.04602614376600717, 0.11201504199006014, 0.07724038119584334, 0.010682723835163771, 0.04696848878089184, 0.052300194804529486, 0.019149690488769654, 0.03292739881170559, 0.13785165787115733, 0.06173572934531598]\n"
     ]
    }
   ],
   "source": [
    "print(predictions[0])\n",
    "print(word_importances[0])"
   ]
  },
  {
   "cell_type": "code",
   "execution_count": 8,
   "metadata": {},
   "outputs": [
    {
     "data": {
      "text/plain": [
       "{'probabilities': [[0.7558372020721436,\n",
       "   0.13647542893886566,\n",
       "   0.05023495480418205,\n",
       "   0.04055476188659668,\n",
       "   0.0019590037409216166]],\n",
       " 'top_indices': [[1119, 1152, 1131, 1122, 1141]],\n",
       " 'token_ids': [101,\n",
       "  1109,\n",
       "  7589,\n",
       "  1500,\n",
       "  1103,\n",
       "  16270,\n",
       "  1115,\n",
       "  103,\n",
       "  1431,\n",
       "  3644,\n",
       "  1103,\n",
       "  1804,\n",
       "  3849,\n",
       "  1104,\n",
       "  1103,\n",
       "  2472,\n",
       "  119,\n",
       "  102],\n",
       " 'words': [['he', 'they', 'she', 'it', 'one']],\n",
       " 'tokens': ['[CLS]',\n",
       "  'The',\n",
       "  'worker',\n",
       "  'told',\n",
       "  'the',\n",
       "  'pedestrian',\n",
       "  'that',\n",
       "  '[MASK]',\n",
       "  'should',\n",
       "  'avoid',\n",
       "  'the',\n",
       "  'closed',\n",
       "  'portion',\n",
       "  'of',\n",
       "  'the',\n",
       "  'street',\n",
       "  '.',\n",
       "  '[SEP]']}"
      ]
     },
     "execution_count": 8,
     "metadata": {},
     "output_type": "execute_result"
    }
   ],
   "source": [
    "predictions[8]"
   ]
  },
  {
   "cell_type": "code",
   "execution_count": null,
   "metadata": {},
   "outputs": [],
   "source": []
  }
 ],
 "metadata": {
  "kernelspec": {
   "display_name": "fnlp",
   "language": "python",
   "name": "python3"
  },
  "language_info": {
   "codemirror_mode": {
    "name": "ipython",
    "version": 3
   },
   "file_extension": ".py",
   "mimetype": "text/x-python",
   "name": "python",
   "nbconvert_exporter": "python",
   "pygments_lexer": "ipython3",
   "version": "3.10.9"
  },
  "orig_nbformat": 4
 },
 "nbformat": 4,
 "nbformat_minor": 2
}
