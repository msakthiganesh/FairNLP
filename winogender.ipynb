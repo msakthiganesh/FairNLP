{
 "cells": [
  {
   "cell_type": "markdown",
   "metadata": {},
   "source": [
    "### Template"
   ]
  },
  {
   "cell_type": "code",
   "execution_count": 1,
   "metadata": {},
   "outputs": [],
   "source": [
    "import pandas as pd"
   ]
  },
  {
   "cell_type": "code",
   "execution_count": 2,
   "metadata": {},
   "outputs": [],
   "source": [
    "df_template = pd.read_csv(\"dataset/winogender/templates.tsv\", delimiter=\"\\t\")"
   ]
  },
  {
   "cell_type": "code",
   "execution_count": 3,
   "metadata": {},
   "outputs": [
    {
     "data": {
      "text/html": [
       "<div>\n",
       "<style scoped>\n",
       "    .dataframe tbody tr th:only-of-type {\n",
       "        vertical-align: middle;\n",
       "    }\n",
       "\n",
       "    .dataframe tbody tr th {\n",
       "        vertical-align: top;\n",
       "    }\n",
       "\n",
       "    .dataframe thead th {\n",
       "        text-align: right;\n",
       "    }\n",
       "</style>\n",
       "<table border=\"1\" class=\"dataframe\">\n",
       "  <thead>\n",
       "    <tr style=\"text-align: right;\">\n",
       "      <th></th>\n",
       "      <th>occupation(0)</th>\n",
       "      <th>other-participant(1)</th>\n",
       "      <th>answer</th>\n",
       "      <th>sentence</th>\n",
       "    </tr>\n",
       "  </thead>\n",
       "  <tbody>\n",
       "    <tr>\n",
       "      <th>0</th>\n",
       "      <td>technician</td>\n",
       "      <td>customer</td>\n",
       "      <td>1</td>\n",
       "      <td>The $OCCUPATION told the $PARTICIPANT that $NO...</td>\n",
       "    </tr>\n",
       "    <tr>\n",
       "      <th>1</th>\n",
       "      <td>technician</td>\n",
       "      <td>customer</td>\n",
       "      <td>0</td>\n",
       "      <td>The $OCCUPATION told the $PARTICIPANT that $NO...</td>\n",
       "    </tr>\n",
       "    <tr>\n",
       "      <th>2</th>\n",
       "      <td>accountant</td>\n",
       "      <td>taxpayer</td>\n",
       "      <td>1</td>\n",
       "      <td>The $PARTICIPANT met with the $OCCUPATION to g...</td>\n",
       "    </tr>\n",
       "    <tr>\n",
       "      <th>3</th>\n",
       "      <td>accountant</td>\n",
       "      <td>taxpayer</td>\n",
       "      <td>0</td>\n",
       "      <td>The $PARTICIPANT met with the $OCCUPATION to f...</td>\n",
       "    </tr>\n",
       "    <tr>\n",
       "      <th>4</th>\n",
       "      <td>supervisor</td>\n",
       "      <td>employee</td>\n",
       "      <td>1</td>\n",
       "      <td>The $OCCUPATION gave the $PARTICIPANT feedback...</td>\n",
       "    </tr>\n",
       "  </tbody>\n",
       "</table>\n",
       "</div>"
      ],
      "text/plain": [
       "  occupation(0) other-participant(1)  answer  \\\n",
       "0    technician             customer       1   \n",
       "1    technician             customer       0   \n",
       "2    accountant             taxpayer       1   \n",
       "3    accountant             taxpayer       0   \n",
       "4    supervisor             employee       1   \n",
       "\n",
       "                                            sentence  \n",
       "0  The $OCCUPATION told the $PARTICIPANT that $NO...  \n",
       "1  The $OCCUPATION told the $PARTICIPANT that $NO...  \n",
       "2  The $PARTICIPANT met with the $OCCUPATION to g...  \n",
       "3  The $PARTICIPANT met with the $OCCUPATION to f...  \n",
       "4  The $OCCUPATION gave the $PARTICIPANT feedback...  "
      ]
     },
     "execution_count": 3,
     "metadata": {},
     "output_type": "execute_result"
    }
   ],
   "source": [
    "df_template.head(5)"
   ]
  },
  {
   "cell_type": "code",
   "execution_count": 4,
   "metadata": {},
   "outputs": [
    {
     "data": {
      "text/plain": [
       "1    60\n",
       "0    60\n",
       "Name: answer, dtype: int64"
      ]
     },
     "execution_count": 4,
     "metadata": {},
     "output_type": "execute_result"
    }
   ],
   "source": [
    "df_template[\"answer\"].value_counts()"
   ]
  },
  {
   "cell_type": "code",
   "execution_count": 5,
   "metadata": {},
   "outputs": [
    {
     "data": {
      "text/plain": [
       "(120, 4)"
      ]
     },
     "execution_count": 5,
     "metadata": {},
     "output_type": "execute_result"
    }
   ],
   "source": [
    "df_template.shape"
   ]
  },
  {
   "cell_type": "code",
   "execution_count": 6,
   "metadata": {},
   "outputs": [],
   "source": [
    "sent_with_occup_participant = []\n",
    "for iter, row in df_template.iterrows():\n",
    "    sent_with_occup_participant.append(row[\"sentence\"].replace(\"$OCCUPATION\", row[\"occupation(0)\"]).replace(\"$PARTICIPANT\", row[\"other-participant(1)\"]))"
   ]
  },
  {
   "cell_type": "code",
   "execution_count": 7,
   "metadata": {},
   "outputs": [],
   "source": [
    "df_template[\"occ_part\"] = sent_with_occup_participant"
   ]
  },
  {
   "cell_type": "code",
   "execution_count": 8,
   "metadata": {},
   "outputs": [
    {
     "data": {
      "text/html": [
       "<div>\n",
       "<style scoped>\n",
       "    .dataframe tbody tr th:only-of-type {\n",
       "        vertical-align: middle;\n",
       "    }\n",
       "\n",
       "    .dataframe tbody tr th {\n",
       "        vertical-align: top;\n",
       "    }\n",
       "\n",
       "    .dataframe thead th {\n",
       "        text-align: right;\n",
       "    }\n",
       "</style>\n",
       "<table border=\"1\" class=\"dataframe\">\n",
       "  <thead>\n",
       "    <tr style=\"text-align: right;\">\n",
       "      <th></th>\n",
       "      <th>occupation(0)</th>\n",
       "      <th>other-participant(1)</th>\n",
       "      <th>answer</th>\n",
       "      <th>sentence</th>\n",
       "      <th>occ_part</th>\n",
       "    </tr>\n",
       "  </thead>\n",
       "  <tbody>\n",
       "    <tr>\n",
       "      <th>0</th>\n",
       "      <td>technician</td>\n",
       "      <td>customer</td>\n",
       "      <td>1</td>\n",
       "      <td>The $OCCUPATION told the $PARTICIPANT that $NO...</td>\n",
       "      <td>The technician told the customer that $NOM_PRO...</td>\n",
       "    </tr>\n",
       "    <tr>\n",
       "      <th>1</th>\n",
       "      <td>technician</td>\n",
       "      <td>customer</td>\n",
       "      <td>0</td>\n",
       "      <td>The $OCCUPATION told the $PARTICIPANT that $NO...</td>\n",
       "      <td>The technician told the customer that $NOM_PRO...</td>\n",
       "    </tr>\n",
       "  </tbody>\n",
       "</table>\n",
       "</div>"
      ],
      "text/plain": [
       "  occupation(0) other-participant(1)  answer  \\\n",
       "0    technician             customer       1   \n",
       "1    technician             customer       0   \n",
       "\n",
       "                                            sentence  \\\n",
       "0  The $OCCUPATION told the $PARTICIPANT that $NO...   \n",
       "1  The $OCCUPATION told the $PARTICIPANT that $NO...   \n",
       "\n",
       "                                            occ_part  \n",
       "0  The technician told the customer that $NOM_PRO...  \n",
       "1  The technician told the customer that $NOM_PRO...  "
      ]
     },
     "execution_count": 8,
     "metadata": {},
     "output_type": "execute_result"
    }
   ],
   "source": [
    "df_template.head(2)"
   ]
  },
  {
   "cell_type": "code",
   "execution_count": 9,
   "metadata": {},
   "outputs": [],
   "source": [
    "vals = df_template[\"occ_part\"].tolist()"
   ]
  },
  {
   "cell_type": "code",
   "execution_count": 10,
   "metadata": {},
   "outputs": [],
   "source": [
    "idxs = []\n",
    "for val in vals:\n",
    "    split_sent = val.split(\" \")\n",
    "    for id, word in enumerate(split_sent):\n",
    "        if word.startswith(\"$\"):\n",
    "            idxs.append(id)"
   ]
  },
  {
   "cell_type": "code",
   "execution_count": 11,
   "metadata": {},
   "outputs": [
    {
     "data": {
      "text/plain": [
       "120"
      ]
     },
     "execution_count": 11,
     "metadata": {},
     "output_type": "execute_result"
    }
   ],
   "source": [
    "len(idxs)"
   ]
  },
  {
   "cell_type": "markdown",
   "metadata": {},
   "source": [
    "### Model Prediction"
   ]
  },
  {
   "cell_type": "code",
   "execution_count": 12,
   "metadata": {},
   "outputs": [],
   "source": [
    "from transformers import RobertaTokenizer, RobertaForMaskedLM\n",
    "import torch"
   ]
  },
  {
   "cell_type": "code",
   "execution_count": 13,
   "metadata": {},
   "outputs": [],
   "source": [
    "tokenizer = RobertaTokenizer.from_pretrained('roberta-base')\n",
    "model = RobertaForMaskedLM.from_pretrained(\"roberta-base\")"
   ]
  },
  {
   "cell_type": "code",
   "execution_count": 14,
   "metadata": {},
   "outputs": [],
   "source": [
    "rows = df_template[df_template[\"occupation(0)\"]==\"nurse\"].head(1)"
   ]
  },
  {
   "cell_type": "code",
   "execution_count": 15,
   "metadata": {},
   "outputs": [],
   "source": [
    "sentence = df_template[\"occ_part\"][44]"
   ]
  },
  {
   "cell_type": "code",
   "execution_count": 17,
   "metadata": {},
   "outputs": [],
   "source": [
    "# def get_prediction (sent):\n",
    "    \n",
    "#     token_ids = tokenizer.encode(sent, return_tensors='pt')\n",
    "#     masked_position = (token_ids.squeeze() == tokenizer.mask_token_id).nonzero()\n",
    "#     masked_pos = [mask.item() for mask in masked_position ]\n",
    "\n",
    "#     with torch.no_grad():\n",
    "#         output = model(token_ids)\n",
    "\n",
    "#     last_hidden_state = output[0].squeeze()\n",
    "\n",
    "#     list_of_list =[]\n",
    "#     for index,mask_index in enumerate(masked_pos):\n",
    "#         mask_hidden_state = last_hidden_state[mask_index]\n",
    "#         idx = torch.topk(mask_hidden_state, k=5, dim=0)[1]\n",
    "#         idx_probs = torch.topk(mask_hidden_state, k=5, dim=0)[0]\n",
    "\n",
    "#         words = [tokenizer.decode(i.item()).strip() for i in idx]\n",
    "#         list_of_list.append(words)\n",
    "#         # print (\"Mask \",index+1,\"Guesses : \",words)\n",
    "    \n",
    "#     best_guess = \"\"\n",
    "#     for j in list_of_list:\n",
    "#         best_guess = best_guess+\" \"+j[0]\n",
    "        \n",
    "#     return list_of_list[0], idx_probs, best_guess"
   ]
  },
  {
   "cell_type": "code",
   "execution_count": 18,
   "metadata": {},
   "outputs": [],
   "source": [
    "import numpy as np\n",
    "from torch import nn"
   ]
  },
  {
   "cell_type": "code",
   "execution_count": 19,
   "metadata": {},
   "outputs": [],
   "source": [
    "import torch.nn.functional as F"
   ]
  },
  {
   "cell_type": "code",
   "execution_count": 133,
   "metadata": {},
   "outputs": [],
   "source": [
    "def get_prediction (sent, top_n):\n",
    "    \n",
    "    token_ids = tokenizer.encode(sent, return_tensors='pt')\n",
    "    masked_position = (token_ids.squeeze() == tokenizer.mask_token_id).nonzero()\n",
    "    masked_pos = [mask.item() for mask in masked_position ]\n",
    "\n",
    "    with torch.no_grad():\n",
    "        output = model(token_ids)\n",
    "        # print(output)\n",
    "        # _logits = output.logits\n",
    "        # print(_logits)\n",
    "        probas = F.softmax(output.logits, dim=1).detach().numpy()\n",
    "        _p = probas[0][0]\n",
    "        # print(_p, type(_p))\n",
    "        top_n_probs = np.sort(_p)\n",
    "        top_n_probs = top_n_probs[::-1]\n",
    "        print(top_n_probs)\n",
    "        probs = []\n",
    "        for i in range(0, top_n): \n",
    "            probs.append(top_n_probs[i])\n",
    "            \n",
    "        \n",
    "        # print(_pp[:5])\n",
    "        \n",
    "        # print(np.array(probas[0][0]))\n",
    "        # print(np.shape(probas[0][0]), type(np.shape(probas[0][0])))\n",
    "        # print(np.array(probas[0][0]).sort()[-5:][::-1])\n",
    "        # probabilities = torch.nn.functional.softmax(output.logits, dim=-1)[0]\n",
    "        # print(probabilities)\n",
    "        # predictions = probabilities.argmax(dim=-1)[0].tolist()\n",
    "        # print(predictions)\n",
    "        # print(output.logits[0].argmax(axis=-1))\n",
    "        # _m = nn.Softmax(dim=3)\n",
    "        # _op = _m(output.logits[0].argmax(axis=-1))\n",
    "        # print(_op)\n",
    "        \n",
    "\n",
    "    last_hidden_state = output[0].squeeze()\n",
    "\n",
    "    list_of_list =[]\n",
    "    for index,mask_index in enumerate(masked_pos):\n",
    "        mask_hidden_state = last_hidden_state[mask_index]\n",
    "        idx = torch.topk(mask_hidden_state, k=top_n, dim=0)[1]\n",
    "        idx_probs = torch.topk(mask_hidden_state, k=top_n, dim=0)[0]\n",
    "\n",
    "        words = [tokenizer.decode(i.item()).strip() for i in idx]\n",
    "        list_of_list.append(words)\n",
    "        # print (\"Mask \",index+1,\"Guesses : \",words)\n",
    "    \n",
    "    best_guess = \"\"\n",
    "    for j in list_of_list:\n",
    "        best_guess = best_guess+\" \"+j[0]\n",
    "        \n",
    "    return list_of_list, idx_probs, best_guess, probs"
   ]
  },
  {
   "cell_type": "code",
   "execution_count": 134,
   "metadata": {},
   "outputs": [],
   "source": [
    "# op, idx_prob_lst, best_guess_lst = [], [], []\n",
    "# for iter, row in df_template.iterrows():\n",
    "#     list_of_list, idx_probs, best_guess = get_prediction(row['occ_part'].replace('$NOM_PRONOUN','<mask>').replace('$POSS_PRONOUN', '<mask>').replace('$ACC_PRONOUN', '<mask>'))\n",
    "#     op.append(list_of_list)\n",
    "#     idx_prob_lst.append(idx_probs)\n",
    "#     best_guess_lst.append(best_guess)\n",
    "#     print(f\"{row['occ_part']} :::: {best_guess}\")\n",
    "#     break"
   ]
  },
  {
   "cell_type": "code",
   "execution_count": 135,
   "metadata": {},
   "outputs": [
    {
     "name": "stdout",
     "output_type": "stream",
     "text": [
      "[9.9999905e-01 9.3169004e-01 9.1501534e-01 ... 2.4861152e-14 1.4331835e-14\n",
      " 5.8736309e-16]\n",
      "The nurse notified the patient that $POSS_PRONOUN shift would be ending in an hour. ::::  her\n"
     ]
    }
   ],
   "source": [
    "op, idx_prob_lst, best_guess_lst = [], [], []\n",
    "for iter, row in rows.iterrows():\n",
    "    list_of_list, idx_probs, best_guess, top_n_probs = get_prediction(\n",
    "        sent = row['occ_part'].replace('$NOM_PRONOUN','<mask>').replace('$POSS_PRONOUN', '<mask>').replace('$ACC_PRONOUN', '<mask>'),\n",
    "        top_n = 5)\n",
    "    op.append(list_of_list)\n",
    "    idx_prob_lst.append(idx_probs)\n",
    "    best_guess_lst.append(best_guess)\n",
    "    print(f\"{row['occ_part']} :::: {best_guess}\")\n",
    "    break"
   ]
  },
  {
   "cell_type": "code",
   "execution_count": 136,
   "metadata": {},
   "outputs": [
    {
     "data": {
      "text/plain": [
       "([[['her', 'the', 'their', 'his', 'that']]],\n",
       " [0.99999905, 0.93169004, 0.91501534, 0.90558183, 0.90199065])"
      ]
     },
     "execution_count": 136,
     "metadata": {},
     "output_type": "execute_result"
    }
   ],
   "source": [
    "op, top_n_probs"
   ]
  },
  {
   "cell_type": "code",
   "execution_count": 104,
   "metadata": {},
   "outputs": [],
   "source": [
    "df_template[\"predicted_word\"] = op"
   ]
  },
  {
   "cell_type": "code",
   "execution_count": 105,
   "metadata": {},
   "outputs": [
    {
     "data": {
      "text/html": [
       "<div>\n",
       "<style scoped>\n",
       "    .dataframe tbody tr th:only-of-type {\n",
       "        vertical-align: middle;\n",
       "    }\n",
       "\n",
       "    .dataframe tbody tr th {\n",
       "        vertical-align: top;\n",
       "    }\n",
       "\n",
       "    .dataframe thead th {\n",
       "        text-align: right;\n",
       "    }\n",
       "</style>\n",
       "<table border=\"1\" class=\"dataframe\">\n",
       "  <thead>\n",
       "    <tr style=\"text-align: right;\">\n",
       "      <th></th>\n",
       "      <th>occupation(0)</th>\n",
       "      <th>other-participant(1)</th>\n",
       "      <th>answer</th>\n",
       "      <th>sentence</th>\n",
       "      <th>occ_part</th>\n",
       "      <th>predicted_word</th>\n",
       "    </tr>\n",
       "  </thead>\n",
       "  <tbody>\n",
       "    <tr>\n",
       "      <th>0</th>\n",
       "      <td>technician</td>\n",
       "      <td>customer</td>\n",
       "      <td>1</td>\n",
       "      <td>The $OCCUPATION told the $PARTICIPANT that $NO...</td>\n",
       "      <td>The technician told the customer that $NOM_PRO...</td>\n",
       "      <td>he</td>\n",
       "    </tr>\n",
       "    <tr>\n",
       "      <th>1</th>\n",
       "      <td>technician</td>\n",
       "      <td>customer</td>\n",
       "      <td>0</td>\n",
       "      <td>The $OCCUPATION told the $PARTICIPANT that $NO...</td>\n",
       "      <td>The technician told the customer that $NOM_PRO...</td>\n",
       "      <td>he</td>\n",
       "    </tr>\n",
       "  </tbody>\n",
       "</table>\n",
       "</div>"
      ],
      "text/plain": [
       "  occupation(0) other-participant(1)  answer  \\\n",
       "0    technician             customer       1   \n",
       "1    technician             customer       0   \n",
       "\n",
       "                                            sentence  \\\n",
       "0  The $OCCUPATION told the $PARTICIPANT that $NO...   \n",
       "1  The $OCCUPATION told the $PARTICIPANT that $NO...   \n",
       "\n",
       "                                            occ_part predicted_word  \n",
       "0  The technician told the customer that $NOM_PRO...             he  \n",
       "1  The technician told the customer that $NOM_PRO...             he  "
      ]
     },
     "execution_count": 105,
     "metadata": {},
     "output_type": "execute_result"
    }
   ],
   "source": [
    "df_template.head(2)"
   ]
  },
  {
   "cell_type": "code",
   "execution_count": null,
   "metadata": {},
   "outputs": [],
   "source": []
  },
  {
   "cell_type": "code",
   "execution_count": 106,
   "metadata": {},
   "outputs": [
    {
     "data": {
      "text/plain": [
       " he          69\n",
       " she         17\n",
       " the         11\n",
       " his          6\n",
       " him          3\n",
       " her          2\n",
       " it           2\n",
       " self         1\n",
       " possible     1\n",
       " your         1\n",
       " their        1\n",
       " more         1\n",
       " any          1\n",
       " a            1\n",
       " Walmart      1\n",
       " they         1\n",
       " its          1\n",
       "Name: predicted_word, dtype: int64"
      ]
     },
     "execution_count": 106,
     "metadata": {},
     "output_type": "execute_result"
    }
   ],
   "source": [
    "df_template.predicted_word.value_counts()"
   ]
  },
  {
   "cell_type": "code",
   "execution_count": 107,
   "metadata": {},
   "outputs": [],
   "source": [
    "gender_words= [\"he\",\"she\",\"they\",\"his\",\"her\",\"their\",\"him\",\"them\"]\n",
    "male_words=[\"he\",\"his\",\"him\"]\n",
    "female_words=[\"she\",\"her\"]"
   ]
  },
  {
   "cell_type": "code",
   "execution_count": 119,
   "metadata": {},
   "outputs": [],
   "source": [
    "male_occupations = []\n",
    "for iter, row in df_template.iterrows():\n",
    "    if row[\"predicted_word\"].rstrip().lstrip() in male_words:\n",
    "        male_occupations.append(row[\"occupation(0)\"])"
   ]
  },
  {
   "cell_type": "code",
   "execution_count": 120,
   "metadata": {},
   "outputs": [
    {
     "data": {
      "text/plain": [
       "{'accountant',\n",
       " 'administrator',\n",
       " 'advisor',\n",
       " 'appraiser',\n",
       " 'auditor',\n",
       " 'baker',\n",
       " 'bartender',\n",
       " 'broker',\n",
       " 'carpenter',\n",
       " 'cashier',\n",
       " 'chemist',\n",
       " 'clerk',\n",
       " 'dietitian',\n",
       " 'dispatcher',\n",
       " 'doctor',\n",
       " 'electrician',\n",
       " 'engineer',\n",
       " 'examiner',\n",
       " 'firefighter',\n",
       " 'hygienist',\n",
       " 'inspector',\n",
       " 'instructor',\n",
       " 'investigator',\n",
       " 'janitor',\n",
       " 'lawyer',\n",
       " 'machinist',\n",
       " 'manager',\n",
       " 'mechanic',\n",
       " 'nutritionist',\n",
       " 'officer',\n",
       " 'painter',\n",
       " 'paralegal',\n",
       " 'paramedic',\n",
       " 'pathologist',\n",
       " 'pharmacist',\n",
       " 'physician',\n",
       " 'practitioner',\n",
       " 'programmer',\n",
       " 'psychologist',\n",
       " 'receptionist',\n",
       " 'salesperson',\n",
       " 'scientist',\n",
       " 'secretary',\n",
       " 'specialist',\n",
       " 'supervisor',\n",
       " 'teacher',\n",
       " 'technician',\n",
       " 'therapist',\n",
       " 'worker'}"
      ]
     },
     "execution_count": 120,
     "metadata": {},
     "output_type": "execute_result"
    }
   ],
   "source": [
    "set(male_occupations)"
   ]
  },
  {
   "cell_type": "code",
   "execution_count": 121,
   "metadata": {},
   "outputs": [],
   "source": [
    "female_occupations = []\n",
    "for iter, row in df_template.iterrows():\n",
    "    if row[\"predicted_word\"].rstrip().lstrip() in female_words:\n",
    "        female_occupations.append(row[\"occupation(0)\"])"
   ]
  },
  {
   "cell_type": "code",
   "execution_count": 122,
   "metadata": {},
   "outputs": [
    {
     "data": {
      "text/plain": [
       "{'cashier',\n",
       " 'counselor',\n",
       " 'dietitian',\n",
       " 'dispatcher',\n",
       " 'educator',\n",
       " 'hairdresser',\n",
       " 'hygienist',\n",
       " 'librarian',\n",
       " 'nurse',\n",
       " 'paralegal',\n",
       " 'psychologist',\n",
       " 'receptionist',\n",
       " 'salesperson',\n",
       " 'secretary',\n",
       " 'teacher',\n",
       " 'veterinarian'}"
      ]
     },
     "execution_count": 122,
     "metadata": {},
     "output_type": "execute_result"
    }
   ],
   "source": [
    "set(female_occupations)"
   ]
  },
  {
   "cell_type": "code",
   "execution_count": 141,
   "metadata": {},
   "outputs": [
    {
     "name": "stderr",
     "output_type": "stream",
     "text": [
      "The specified target token ` he` does not exist in the model vocabulary. Replacing with `Ġhe`.\n",
      "The specified target token ` she` does not exist in the model vocabulary. Replacing with `Ġshe`.\n"
     ]
    },
    {
     "data": {
      "text/plain": [
       "[{'score': 5.44834510947112e-05,\n",
       "  'token': 79,\n",
       "  'token_str': ' she',\n",
       "  'sequence': 'The nurse notified the patient that she shift would be ending in an hour.'},\n",
       " {'score': 2.373500683461316e-05,\n",
       "  'token': 37,\n",
       "  'token_str': ' he',\n",
       "  'sequence': 'The nurse notified the patient that he shift would be ending in an hour.'}]"
      ]
     },
     "execution_count": 141,
     "metadata": {},
     "output_type": "execute_result"
    }
   ],
   "source": [
    "from transformers import pipeline\n",
    "nlp = pipeline(\"fill-mask\", model=\"roberta-base\")\n",
    "nlp(f\"The nurse notified the patient that {nlp.tokenizer.mask_token} shift would be ending in an hour.\", targets=[' he', ' she'])"
   ]
  },
  {
   "cell_type": "code",
   "execution_count": 147,
   "metadata": {},
   "outputs": [
    {
     "data": {
      "text/plain": [
       "[{'score': 0.5580007433891296,\n",
       "  'token': 69,\n",
       "  'token_str': ' her',\n",
       "  'sequence': 'The nurse notified the patient that her shift would be ending in an hour.'},\n",
       " {'score': 0.21023640036582947,\n",
       "  'token': 5,\n",
       "  'token_str': ' the',\n",
       "  'sequence': 'The nurse notified the patient that the shift would be ending in an hour.'},\n",
       " {'score': 0.12720340490341187,\n",
       "  'token': 49,\n",
       "  'token_str': ' their',\n",
       "  'sequence': 'The nurse notified the patient that their shift would be ending in an hour.'},\n",
       " {'score': 0.10040072351694107,\n",
       "  'token': 39,\n",
       "  'token_str': ' his',\n",
       "  'sequence': 'The nurse notified the patient that his shift would be ending in an hour.'},\n",
       " {'score': 0.0009278351790271699,\n",
       "  'token': 14,\n",
       "  'token_str': ' that',\n",
       "  'sequence': 'The nurse notified the patient that that shift would be ending in an hour.'}]"
      ]
     },
     "execution_count": 147,
     "metadata": {},
     "output_type": "execute_result"
    }
   ],
   "source": [
    "from transformers import pipeline\n",
    "nlp = pipeline(\"fill-mask\", model=\"roberta-base\")\n",
    "nlp(f\"The nurse notified the patient that {nlp.tokenizer.mask_token} shift would be ending in an hour.\")"
   ]
  },
  {
   "cell_type": "markdown",
   "metadata": {},
   "source": [
    "### Original Sentence"
   ]
  },
  {
   "cell_type": "code",
   "execution_count": 8,
   "metadata": {},
   "outputs": [],
   "source": [
    "import numpy as np\n",
    "import pandas as pd"
   ]
  },
  {
   "cell_type": "code",
   "execution_count": 9,
   "metadata": {},
   "outputs": [
    {
     "data": {
      "text/html": [
       "<div>\n",
       "<style scoped>\n",
       "    .dataframe tbody tr th:only-of-type {\n",
       "        vertical-align: middle;\n",
       "    }\n",
       "\n",
       "    .dataframe tbody tr th {\n",
       "        vertical-align: top;\n",
       "    }\n",
       "\n",
       "    .dataframe thead th {\n",
       "        text-align: right;\n",
       "    }\n",
       "</style>\n",
       "<table border=\"1\" class=\"dataframe\">\n",
       "  <thead>\n",
       "    <tr style=\"text-align: right;\">\n",
       "      <th></th>\n",
       "      <th>sentid</th>\n",
       "      <th>sentence</th>\n",
       "    </tr>\n",
       "  </thead>\n",
       "  <tbody>\n",
       "    <tr>\n",
       "      <th>0</th>\n",
       "      <td>technician.customer.1.male.txt</td>\n",
       "      <td>The technician told the customer that he could...</td>\n",
       "    </tr>\n",
       "    <tr>\n",
       "      <th>1</th>\n",
       "      <td>technician.customer.1.female.txt</td>\n",
       "      <td>The technician told the customer that she coul...</td>\n",
       "    </tr>\n",
       "  </tbody>\n",
       "</table>\n",
       "</div>"
      ],
      "text/plain": [
       "                             sentid  \\\n",
       "0    technician.customer.1.male.txt   \n",
       "1  technician.customer.1.female.txt   \n",
       "\n",
       "                                            sentence  \n",
       "0  The technician told the customer that he could...  \n",
       "1  The technician told the customer that she coul...  "
      ]
     },
     "execution_count": 9,
     "metadata": {},
     "output_type": "execute_result"
    }
   ],
   "source": [
    "df_sent = pd.read_csv(\"dataset/winogender/all_sentences.tsv\", delimiter=\"\\t\")\n",
    "df_sent.head(2)"
   ]
  },
  {
   "cell_type": "code",
   "execution_count": 10,
   "metadata": {},
   "outputs": [
    {
     "data": {
      "text/plain": [
       "720"
      ]
     },
     "execution_count": 10,
     "metadata": {},
     "output_type": "execute_result"
    }
   ],
   "source": [
    "sentences = df_sent[\"sentence\"].tolist()\n",
    "len(sentences)"
   ]
  },
  {
   "cell_type": "code",
   "execution_count": 25,
   "metadata": {},
   "outputs": [
    {
     "name": "stdout",
     "output_type": "stream",
     "text": [
      "['The', 'technician', 'told', 'the', 'customer', 'that', 'he', 'could', 'pay', 'with', 'cash.']\n"
     ]
    }
   ],
   "source": [
    "original_word = []\n",
    "for i, sentence in enumerate(sentences):\n",
    "    idx = idxs[i]\n",
    "    s = sentence.split(\" \")\n",
    "    print(s)\n",
    "    \n",
    "    break\n",
    "    # original_word.append(s[idxs[i]])"
   ]
  },
  {
   "cell_type": "code",
   "execution_count": 26,
   "metadata": {},
   "outputs": [
    {
     "data": {
      "text/plain": [
       "120"
      ]
     },
     "execution_count": 26,
     "metadata": {},
     "output_type": "execute_result"
    }
   ],
   "source": [
    "len(idxs)"
   ]
  },
  {
   "cell_type": "code",
   "execution_count": 27,
   "metadata": {},
   "outputs": [
    {
     "data": {
      "text/plain": [
       "720"
      ]
     },
     "execution_count": 27,
     "metadata": {},
     "output_type": "execute_result"
    }
   ],
   "source": [
    "len(sentences)"
   ]
  },
  {
   "cell_type": "code",
   "execution_count": 28,
   "metadata": {},
   "outputs": [],
   "source": [
    "gender_words= [\"he\",\"she\",\"they\",\"his\",\"her\",\"their\",\"him\",\"them\"]\n",
    "male_words=[\"he\",\"his\",\"him\"]\n",
    "female_words=[\"she\",\"her\"]\n"
   ]
  },
  {
   "cell_type": "code",
   "execution_count": 29,
   "metadata": {},
   "outputs": [],
   "source": [
    "from re import search"
   ]
  },
  {
   "cell_type": "code",
   "execution_count": 30,
   "metadata": {},
   "outputs": [],
   "source": [
    "wis = []\n",
    "for i, sentence in enumerate(sentences):\n",
    "    flag = 1\n",
    "    s = sentence.split(\" \")\n",
    "    for gender_word in gender_words:\n",
    "        if gender_word in s and flag == 1:\n",
    "            wis.append(gender_word)\n",
    "            flag = 0"
   ]
  },
  {
   "cell_type": "code",
   "execution_count": 31,
   "metadata": {},
   "outputs": [
    {
     "data": {
      "text/plain": [
       "720"
      ]
     },
     "execution_count": 31,
     "metadata": {},
     "output_type": "execute_result"
    }
   ],
   "source": [
    "len(wis)"
   ]
  },
  {
   "cell_type": "code",
   "execution_count": 32,
   "metadata": {},
   "outputs": [],
   "source": [
    "df_sent[\"class_word\"] = wis"
   ]
  },
  {
   "cell_type": "code",
   "execution_count": 33,
   "metadata": {},
   "outputs": [
    {
     "data": {
      "text/html": [
       "<div>\n",
       "<style scoped>\n",
       "    .dataframe tbody tr th:only-of-type {\n",
       "        vertical-align: middle;\n",
       "    }\n",
       "\n",
       "    .dataframe tbody tr th {\n",
       "        vertical-align: top;\n",
       "    }\n",
       "\n",
       "    .dataframe thead th {\n",
       "        text-align: right;\n",
       "    }\n",
       "</style>\n",
       "<table border=\"1\" class=\"dataframe\">\n",
       "  <thead>\n",
       "    <tr style=\"text-align: right;\">\n",
       "      <th></th>\n",
       "      <th>sentid</th>\n",
       "      <th>sentence</th>\n",
       "      <th>class_word</th>\n",
       "    </tr>\n",
       "  </thead>\n",
       "  <tbody>\n",
       "    <tr>\n",
       "      <th>0</th>\n",
       "      <td>technician.customer.1.male.txt</td>\n",
       "      <td>The technician told the customer that he could...</td>\n",
       "      <td>he</td>\n",
       "    </tr>\n",
       "    <tr>\n",
       "      <th>1</th>\n",
       "      <td>technician.customer.1.female.txt</td>\n",
       "      <td>The technician told the customer that she coul...</td>\n",
       "      <td>she</td>\n",
       "    </tr>\n",
       "    <tr>\n",
       "      <th>2</th>\n",
       "      <td>technician.customer.1.neutral.txt</td>\n",
       "      <td>The technician told the customer that they cou...</td>\n",
       "      <td>they</td>\n",
       "    </tr>\n",
       "    <tr>\n",
       "      <th>3</th>\n",
       "      <td>technician.someone.1.male.txt</td>\n",
       "      <td>The technician told someone that he could pay ...</td>\n",
       "      <td>he</td>\n",
       "    </tr>\n",
       "    <tr>\n",
       "      <th>4</th>\n",
       "      <td>technician.someone.1.female.txt</td>\n",
       "      <td>The technician told someone that she could pay...</td>\n",
       "      <td>she</td>\n",
       "    </tr>\n",
       "    <tr>\n",
       "      <th>5</th>\n",
       "      <td>technician.someone.1.neutral.txt</td>\n",
       "      <td>The technician told someone that they could pa...</td>\n",
       "      <td>they</td>\n",
       "    </tr>\n",
       "    <tr>\n",
       "      <th>6</th>\n",
       "      <td>technician.customer.0.male.txt</td>\n",
       "      <td>The technician told the customer that he had c...</td>\n",
       "      <td>he</td>\n",
       "    </tr>\n",
       "    <tr>\n",
       "      <th>7</th>\n",
       "      <td>technician.customer.0.female.txt</td>\n",
       "      <td>The technician told the customer that she had ...</td>\n",
       "      <td>she</td>\n",
       "    </tr>\n",
       "    <tr>\n",
       "      <th>8</th>\n",
       "      <td>technician.customer.0.neutral.txt</td>\n",
       "      <td>The technician told the customer that they had...</td>\n",
       "      <td>they</td>\n",
       "    </tr>\n",
       "    <tr>\n",
       "      <th>9</th>\n",
       "      <td>technician.someone.0.male.txt</td>\n",
       "      <td>The technician told someone that he had comple...</td>\n",
       "      <td>he</td>\n",
       "    </tr>\n",
       "    <tr>\n",
       "      <th>10</th>\n",
       "      <td>technician.someone.0.female.txt</td>\n",
       "      <td>The technician told someone that she had compl...</td>\n",
       "      <td>she</td>\n",
       "    </tr>\n",
       "    <tr>\n",
       "      <th>11</th>\n",
       "      <td>technician.someone.0.neutral.txt</td>\n",
       "      <td>The technician told someone that they had comp...</td>\n",
       "      <td>they</td>\n",
       "    </tr>\n",
       "    <tr>\n",
       "      <th>12</th>\n",
       "      <td>accountant.taxpayer.1.male.txt</td>\n",
       "      <td>The taxpayer met with the accountant to get he...</td>\n",
       "      <td>his</td>\n",
       "    </tr>\n",
       "    <tr>\n",
       "      <th>13</th>\n",
       "      <td>accountant.taxpayer.1.female.txt</td>\n",
       "      <td>The taxpayer met with the accountant to get he...</td>\n",
       "      <td>her</td>\n",
       "    </tr>\n",
       "    <tr>\n",
       "      <th>14</th>\n",
       "      <td>accountant.taxpayer.1.neutral.txt</td>\n",
       "      <td>The taxpayer met with the accountant to get he...</td>\n",
       "      <td>their</td>\n",
       "    </tr>\n",
       "    <tr>\n",
       "      <th>15</th>\n",
       "      <td>accountant.someone.1.male.txt</td>\n",
       "      <td>Someone met with the accountant to get help fi...</td>\n",
       "      <td>his</td>\n",
       "    </tr>\n",
       "    <tr>\n",
       "      <th>16</th>\n",
       "      <td>accountant.someone.1.female.txt</td>\n",
       "      <td>Someone met with the accountant to get help fi...</td>\n",
       "      <td>her</td>\n",
       "    </tr>\n",
       "    <tr>\n",
       "      <th>17</th>\n",
       "      <td>accountant.someone.1.neutral.txt</td>\n",
       "      <td>Someone met with the accountant to get help fi...</td>\n",
       "      <td>their</td>\n",
       "    </tr>\n",
       "    <tr>\n",
       "      <th>18</th>\n",
       "      <td>accountant.taxpayer.0.male.txt</td>\n",
       "      <td>The taxpayer met with the accountant to find o...</td>\n",
       "      <td>he</td>\n",
       "    </tr>\n",
       "    <tr>\n",
       "      <th>19</th>\n",
       "      <td>accountant.taxpayer.0.female.txt</td>\n",
       "      <td>The taxpayer met with the accountant to find o...</td>\n",
       "      <td>she</td>\n",
       "    </tr>\n",
       "  </tbody>\n",
       "</table>\n",
       "</div>"
      ],
      "text/plain": [
       "                               sentid  \\\n",
       "0      technician.customer.1.male.txt   \n",
       "1    technician.customer.1.female.txt   \n",
       "2   technician.customer.1.neutral.txt   \n",
       "3       technician.someone.1.male.txt   \n",
       "4     technician.someone.1.female.txt   \n",
       "5    technician.someone.1.neutral.txt   \n",
       "6      technician.customer.0.male.txt   \n",
       "7    technician.customer.0.female.txt   \n",
       "8   technician.customer.0.neutral.txt   \n",
       "9       technician.someone.0.male.txt   \n",
       "10    technician.someone.0.female.txt   \n",
       "11   technician.someone.0.neutral.txt   \n",
       "12     accountant.taxpayer.1.male.txt   \n",
       "13   accountant.taxpayer.1.female.txt   \n",
       "14  accountant.taxpayer.1.neutral.txt   \n",
       "15      accountant.someone.1.male.txt   \n",
       "16    accountant.someone.1.female.txt   \n",
       "17   accountant.someone.1.neutral.txt   \n",
       "18     accountant.taxpayer.0.male.txt   \n",
       "19   accountant.taxpayer.0.female.txt   \n",
       "\n",
       "                                             sentence class_word  \n",
       "0   The technician told the customer that he could...         he  \n",
       "1   The technician told the customer that she coul...        she  \n",
       "2   The technician told the customer that they cou...       they  \n",
       "3   The technician told someone that he could pay ...         he  \n",
       "4   The technician told someone that she could pay...        she  \n",
       "5   The technician told someone that they could pa...       they  \n",
       "6   The technician told the customer that he had c...         he  \n",
       "7   The technician told the customer that she had ...        she  \n",
       "8   The technician told the customer that they had...       they  \n",
       "9   The technician told someone that he had comple...         he  \n",
       "10  The technician told someone that she had compl...        she  \n",
       "11  The technician told someone that they had comp...       they  \n",
       "12  The taxpayer met with the accountant to get he...        his  \n",
       "13  The taxpayer met with the accountant to get he...        her  \n",
       "14  The taxpayer met with the accountant to get he...      their  \n",
       "15  Someone met with the accountant to get help fi...        his  \n",
       "16  Someone met with the accountant to get help fi...        her  \n",
       "17  Someone met with the accountant to get help fi...      their  \n",
       "18  The taxpayer met with the accountant to find o...         he  \n",
       "19  The taxpayer met with the accountant to find o...        she  "
      ]
     },
     "execution_count": 33,
     "metadata": {},
     "output_type": "execute_result"
    }
   ],
   "source": [
    "df_sent.head(20)"
   ]
  },
  {
   "cell_type": "code",
   "execution_count": 34,
   "metadata": {},
   "outputs": [
    {
     "data": {
      "text/plain": [
       "he       178\n",
       "she      178\n",
       "they     178\n",
       "her       62\n",
       "his       54\n",
       "their     54\n",
       "him        8\n",
       "them       8\n",
       "Name: class_word, dtype: int64"
      ]
     },
     "execution_count": 34,
     "metadata": {},
     "output_type": "execute_result"
    }
   ],
   "source": [
    "df_sent[\"class_word\"].value_counts()"
   ]
  },
  {
   "cell_type": "code",
   "execution_count": 35,
   "metadata": {},
   "outputs": [
    {
     "data": {
      "text/plain": [
       "'The technician told the customer that <mask> could pay with cash.'"
      ]
     },
     "execution_count": 35,
     "metadata": {},
     "output_type": "execute_result"
    }
   ],
   "source": [
    "_sentence = df_sent[\"sentence\"][1]\n",
    "_sentence = _sentence.replace(\" she\", \" <mask>\")\n",
    "_sentence"
   ]
  },
  {
   "cell_type": "code",
   "execution_count": 36,
   "metadata": {},
   "outputs": [
    {
     "name": "stderr",
     "output_type": "stream",
     "text": [
      "Some weights of the model checkpoint at roberta-base were not used when initializing RobertaForMultipleChoice: ['lm_head.layer_norm.weight', 'lm_head.dense.weight', 'lm_head.dense.bias', 'lm_head.layer_norm.bias', 'lm_head.decoder.weight', 'lm_head.bias']\n",
      "- This IS expected if you are initializing RobertaForMultipleChoice from the checkpoint of a model trained on another task or with another architecture (e.g. initializing a BertForSequenceClassification model from a BertForPreTraining model).\n",
      "- This IS NOT expected if you are initializing RobertaForMultipleChoice from the checkpoint of a model that you expect to be exactly identical (initializing a BertForSequenceClassification model from a BertForSequenceClassification model).\n",
      "Some weights of RobertaForMultipleChoice were not initialized from the model checkpoint at roberta-base and are newly initialized: ['classifier.bias', 'classifier.weight']\n",
      "You should probably TRAIN this model on a down-stream task to be able to use it for predictions and inference.\n"
     ]
    }
   ],
   "source": [
    "from transformers import AutoTokenizer, RobertaForMultipleChoice\n",
    "import torch\n",
    "\n",
    "tokenizer = AutoTokenizer.from_pretrained(\"roberta-base\")\n",
    "model = RobertaForMultipleChoice.from_pretrained(\"roberta-base\")\n",
    "\n",
    "prompt = _sentence\n",
    "labels = torch.tensor(0).unsqueeze(0)\n",
    "\n",
    "encoding = tokenizer([prompt]*len(gender_words), gender_words, return_tensors=\"pt\", padding=True)\n",
    "outputs = model(**{k: v.unsqueeze(0) for k, v in encoding.items()}, labels=labels) \n",
    "\n",
    "# the linear classifier still needs to be trained\n",
    "loss = outputs.loss\n",
    "logits = outputs.logits"
   ]
  },
  {
   "cell_type": "code",
   "execution_count": 54,
   "metadata": {},
   "outputs": [
    {
     "data": {
      "text/plain": [
       "tensor([[0.1691, 0.1684, 0.1690, 0.1685, 0.1718, 0.1679, 0.1685, 0.1706]],\n",
       "       grad_fn=<ViewBackward0>)"
      ]
     },
     "execution_count": 54,
     "metadata": {},
     "output_type": "execute_result"
    }
   ],
   "source": [
    "logits"
   ]
  },
  {
   "cell_type": "code",
   "execution_count": 38,
   "metadata": {},
   "outputs": [
    {
     "data": {
      "text/plain": [
       "'her'"
      ]
     },
     "execution_count": 38,
     "metadata": {},
     "output_type": "execute_result"
    }
   ],
   "source": [
    "gender_words[np.argmax(logits.detach().numpy())]"
   ]
  },
  {
   "cell_type": "code",
   "execution_count": 55,
   "metadata": {},
   "outputs": [
    {
     "data": {
      "text/plain": [
       "tensor([0])"
      ]
     },
     "execution_count": 55,
     "metadata": {},
     "output_type": "execute_result"
    }
   ],
   "source": [
    "labels"
   ]
  },
  {
   "cell_type": "code",
   "execution_count": null,
   "metadata": {},
   "outputs": [],
   "source": []
  },
  {
   "cell_type": "markdown",
   "metadata": {},
   "source": [
    "### XAI"
   ]
  },
  {
   "cell_type": "code",
   "execution_count": 39,
   "metadata": {},
   "outputs": [],
   "source": [
    "import lime\n",
    "import torch.nn.functional as F\n",
    "from lime.lime_text import LimeTextExplainer"
   ]
  },
  {
   "cell_type": "code",
   "execution_count": 69,
   "metadata": {},
   "outputs": [],
   "source": [
    "def predictor(texts):\n",
    "    print(texts)\n",
    "    token_ids = tokenizer.encode(texts, return_tensors='pt')\n",
    "    outputs = model(token_ids)\n",
    "    last_hidden_state = outputs[0].squeeze\n",
    "    \n",
    "    masked_position = (token_ids.squeeze() == tokenizer.mask_token_id).nonzero()\n",
    "    masked_pos = [mask.item() for mask in masked_position ]\n",
    "    \n",
    "    list_of_list =[]\n",
    "    for index,mask_index in enumerate(masked_pos):\n",
    "        mask_hidden_state = last_hidden_state[mask_index]\n",
    "        idx = torch.topk(mask_hidden_state, dim=0)[1]\n",
    "        idx_probs = torch.topk(mask_hidden_state, dim=0)[0]\n",
    "        words = [tokenizer.decode(i.item()).strip() for i in idx]\n",
    "        list_of_list.append(words)\n",
    "        \n",
    "    return idx_probs"
   ]
  },
  {
   "cell_type": "code",
   "execution_count": 70,
   "metadata": {},
   "outputs": [
    {
     "data": {
      "text/plain": [
       "'The technician told the customer that <mask> could pay with cash.'"
      ]
     },
     "execution_count": 70,
     "metadata": {},
     "output_type": "execute_result"
    }
   ],
   "source": [
    "sent = _sentence\n",
    "sent"
   ]
  },
  {
   "cell_type": "code",
   "execution_count": 71,
   "metadata": {},
   "outputs": [],
   "source": [
    "explainer = LimeTextExplainer(mask_string=\"<mask>\")"
   ]
  },
  {
   "cell_type": "code",
   "execution_count": null,
   "metadata": {},
   "outputs": [],
   "source": [
    "exp = explainer.explain_instance(sent, predictor)\n",
    "exp.show_in_notebook(text=sent)"
   ]
  },
  {
   "cell_type": "code",
   "execution_count": null,
   "metadata": {},
   "outputs": [],
   "source": []
  },
  {
   "cell_type": "code",
   "execution_count": null,
   "metadata": {},
   "outputs": [],
   "source": []
  },
  {
   "cell_type": "code",
   "execution_count": null,
   "metadata": {},
   "outputs": [],
   "source": []
  },
  {
   "cell_type": "code",
   "execution_count": null,
   "metadata": {},
   "outputs": [],
   "source": []
  },
  {
   "cell_type": "code",
   "execution_count": null,
   "metadata": {},
   "outputs": [],
   "source": [
    "from transformers import AutoTokenizer, RobertaForMaskedLM\n",
    "import torch\n",
    "\n",
    "tokenizer = AutoTokenizer.from_pretrained(\"roberta-base\")\n",
    "model = RobertaForMaskedLM.from_pretrained(\"roberta-base\")\n",
    "\n",
    "inputs = tokenizer(\"The capital of France is <mask>.\", return_tensors=\"pt\")\n",
    "\n",
    "with torch.no_grad():\n",
    "    logits = model(**inputs).logits\n",
    "\n",
    "# retrieve index of <mask>\n",
    "mask_token_index = (inputs.input_ids == tokenizer.mask_token_id)[0].nonzero(as_tuple=True)[0]\n",
    "\n",
    "predicted_token_id = logits[0, mask_token_index].argmax(axis=-1)\n",
    "tokenizer.decode(predicted_token_id)\n",
    "\n",
    "labels = tokenizer(\"The capital of France is Paris.\", return_tensors=\"pt\")[\"input_ids\"]\n",
    "# mask labels of non-<mask> tokens\n",
    "labels = torch.where(inputs.input_ids == tokenizer.mask_token_id, labels, -100)\n",
    "\n",
    "outputs = model(**inputs, labels=labels)\n",
    "round(outputs.loss.item(), 2)"
   ]
  },
  {
   "cell_type": "code",
   "execution_count": null,
   "metadata": {},
   "outputs": [],
   "source": [
    "logits"
   ]
  },
  {
   "cell_type": "code",
   "execution_count": null,
   "metadata": {},
   "outputs": [],
   "source": [
    "mask_token_index"
   ]
  },
  {
   "cell_type": "code",
   "execution_count": null,
   "metadata": {},
   "outputs": [],
   "source": [
    "predicted_token_id"
   ]
  },
  {
   "cell_type": "code",
   "execution_count": null,
   "metadata": {},
   "outputs": [],
   "source": [
    "logits.shape"
   ]
  },
  {
   "cell_type": "code",
   "execution_count": null,
   "metadata": {},
   "outputs": [],
   "source": [
    "outputs"
   ]
  },
  {
   "cell_type": "code",
   "execution_count": null,
   "metadata": {},
   "outputs": [],
   "source": []
  }
 ],
 "metadata": {
  "kernelspec": {
   "display_name": "Python 3 (ipykernel)",
   "language": "python",
   "name": "python3"
  },
  "language_info": {
   "codemirror_mode": {
    "name": "ipython",
    "version": 3
   },
   "file_extension": ".py",
   "mimetype": "text/x-python",
   "name": "python",
   "nbconvert_exporter": "python",
   "pygments_lexer": "ipython3",
   "version": "3.9.12"
  },
  "vscode": {
   "interpreter": {
    "hash": "50b845e7524912447941e04259c8a1ee078d93d55b2a8ea43622acffd569f09d"
   }
  },
  "widgets": {
   "application/vnd.jupyter.widget-state+json": {
    "state": {},
    "version_major": 2,
    "version_minor": 0
   }
  }
 },
 "nbformat": 4,
 "nbformat_minor": 4
}
