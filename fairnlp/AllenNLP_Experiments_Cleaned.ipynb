{
 "cells": [
  {
   "cell_type": "code",
   "execution_count": 1,
   "metadata": {},
   "outputs": [],
   "source": [
    "from allennlp.interpret.saliency_interpreters import SimpleGradient\n",
    "from allennlp.predictors import Predictor"
   ]
  },
  {
   "cell_type": "code",
   "execution_count": 2,
   "metadata": {},
   "outputs": [
    {
     "data": {
      "text/plain": [
       "('The [MASK] scolded the students in class.', 7)"
      ]
     },
     "execution_count": 2,
     "metadata": {},
     "output_type": "execute_result"
    }
   ],
   "source": [
    "# sentence = \"The nurse ran to the emergency room to see [MASK] patient.\"\n",
    "# sentence = \"some [MASK] string\"\n",
    "sentence = \"The [MASK] scolded the students in class.\"\n",
    "\n",
    "sentence, len(sentence.split(\" \"))"
   ]
  },
  {
   "cell_type": "code",
   "execution_count": 3,
   "metadata": {},
   "outputs": [
    {
     "data": {
      "text/plain": [
       "{'sentence': 'The [MASK] scolded the students in class.'}"
      ]
     },
     "execution_count": 3,
     "metadata": {},
     "output_type": "execute_result"
    }
   ],
   "source": [
    "inputs = {\"sentence\": sentence}\n",
    "inputs"
   ]
  },
  {
   "cell_type": "code",
   "execution_count": 4,
   "metadata": {},
   "outputs": [],
   "source": [
    "# archive = (\n",
    "#     \"https://storage.googleapis.com/allennlp-public-models/bert-masked-lm-2020-10-07.tar.gz\"\n",
    "# )"
   ]
  },
  {
   "cell_type": "code",
   "execution_count": 5,
   "metadata": {},
   "outputs": [
    {
     "name": "stderr",
     "output_type": "stream",
     "text": [
      "Some weights of the model checkpoint at bert-base-cased were not used when initializing BertModel: ['cls.predictions.transform.dense.bias', 'cls.predictions.transform.LayerNorm.weight', 'cls.predictions.transform.LayerNorm.bias', 'cls.seq_relationship.weight', 'cls.seq_relationship.bias', 'cls.predictions.transform.dense.weight', 'cls.predictions.bias', 'cls.predictions.decoder.weight']\n",
      "- This IS expected if you are initializing BertModel from the checkpoint of a model trained on another task or with another architecture (e.g. initializing a BertForSequenceClassification model from a BertForPreTraining model).\n",
      "- This IS NOT expected if you are initializing BertModel from the checkpoint of a model that you expect to be exactly identical (initializing a BertForSequenceClassification model from a BertForSequenceClassification model).\n",
      "Some weights of the model checkpoint at bert-base-cased were not used when initializing BertForMaskedLM: ['cls.seq_relationship.bias', 'cls.seq_relationship.weight']\n",
      "- This IS expected if you are initializing BertForMaskedLM from the checkpoint of a model trained on another task or with another architecture (e.g. initializing a BertForSequenceClassification model from a BertForPreTraining model).\n",
      "- This IS NOT expected if you are initializing BertForMaskedLM from the checkpoint of a model that you expect to be exactly identical (initializing a BertForSequenceClassification model from a BertForSequenceClassification model).\n"
     ]
    },
    {
     "data": {
      "text/plain": [
       "<allennlp_models.lm.predictors.masked_language_model.MaskedLanguageModelPredictor at 0x7fb1f0976320>"
      ]
     },
     "execution_count": 5,
     "metadata": {},
     "output_type": "execute_result"
    }
   ],
   "source": [
    "predictor = Predictor.from_path(\"models/bert-masked-lm-2020-10-07/\")\n",
    "predictor"
   ]
  },
  {
   "cell_type": "code",
   "execution_count": 6,
   "metadata": {},
   "outputs": [
    {
     "data": {
      "text/plain": [
       "{'probabilities': [[0.2942875921726227,\n",
       "   0.06253392994403839,\n",
       "   0.05753083527088165,\n",
       "   0.04667077586054802,\n",
       "   0.024878336116671562]],\n",
       " 'top_indices': [[3218, 3083, 4952, 22919, 3981]],\n",
       " 'token_ids': [101,\n",
       "  1109,\n",
       "  103,\n",
       "  188,\n",
       "  2528,\n",
       "  15414,\n",
       "  1103,\n",
       "  1651,\n",
       "  1107,\n",
       "  1705,\n",
       "  119,\n",
       "  102],\n",
       " 'words': [['teacher', 'professor', 'teachers', 'headmaster', 'principal']],\n",
       " 'tokens': ['[CLS]',\n",
       "  'The',\n",
       "  '[MASK]',\n",
       "  's',\n",
       "  '##co',\n",
       "  '##lded',\n",
       "  'the',\n",
       "  'students',\n",
       "  'in',\n",
       "  'class',\n",
       "  '.',\n",
       "  '[SEP]']}"
      ]
     },
     "execution_count": 6,
     "metadata": {},
     "output_type": "execute_result"
    }
   ],
   "source": [
    "preds = predictor.predict(sentence)\n",
    "preds"
   ]
  },
  {
   "attachments": {},
   "cell_type": "markdown",
   "metadata": {},
   "source": [
    "### Applying SimpleGradient for Word Importance"
   ]
  },
  {
   "cell_type": "code",
   "execution_count": 7,
   "metadata": {},
   "outputs": [
    {
     "data": {
      "text/plain": [
       "<allennlp.interpret.saliency_interpreters.simple_gradient.SimpleGradient at 0x7fb1b315be20>"
      ]
     },
     "execution_count": 7,
     "metadata": {},
     "output_type": "execute_result"
    }
   ],
   "source": [
    "interpreter = SimpleGradient(predictor)\n",
    "interpreter"
   ]
  },
  {
   "cell_type": "code",
   "execution_count": 8,
   "metadata": {},
   "outputs": [
    {
     "name": "stderr",
     "output_type": "stream",
     "text": [
      "/Users/sakthi/opt/anaconda3/envs/fnlp/lib/python3.10/site-packages/torch/nn/modules/module.py:1053: UserWarning: Using a non-full backward hook when the forward contains multiple autograd Nodes is deprecated and will be removed in future versions. This hook will be missing some grad_input. Please use register_full_backward_hook to get the documented behavior.\n",
      "  warnings.warn(\"Using a non-full backward hook when the forward contains multiple autograd Nodes \"\n"
     ]
    },
    {
     "name": "stdout",
     "output_type": "stream",
     "text": [
      "{'instance_1': {'grad_input_1': [0.001309904893991275, 0.17273694111583823, 0.07378546356247755, 0.056029919731955924, 0.0794455163843453, 0.026464214659870276, 0.22872306212873822, 0.07002156857199943, 0.03989856563789363, 0.04307570519255765, 0.110295562740542, 0.09821361207015106]}}\n"
     ]
    }
   ],
   "source": [
    "interpretation = interpreter.saliency_interpret_from_json(inputs)\n",
    "print(interpretation)"
   ]
  },
  {
   "cell_type": "code",
   "execution_count": 12,
   "metadata": {},
   "outputs": [
    {
     "data": {
      "text/plain": [
       "[0.001309904893991275,\n",
       " 0.17273694111583823,\n",
       " 0.07378546356247755,\n",
       " 0.056029919731955924,\n",
       " 0.0794455163843453,\n",
       " 0.026464214659870276,\n",
       " 0.22872306212873822,\n",
       " 0.07002156857199943,\n",
       " 0.03989856563789363,\n",
       " 0.04307570519255765,\n",
       " 0.110295562740542,\n",
       " 0.09821361207015106]"
      ]
     },
     "execution_count": 12,
     "metadata": {},
     "output_type": "execute_result"
    }
   ],
   "source": [
    "word_importances = interpretation[\"instance_1\"][\"grad_input_1\"]\n",
    "word_importances"
   ]
  },
  {
   "cell_type": "code",
   "execution_count": 10,
   "metadata": {},
   "outputs": [
    {
     "data": {
      "text/plain": [
       "['[CLS]',\n",
       " 'The',\n",
       " '[MASK]',\n",
       " 's',\n",
       " '##co',\n",
       " '##lded',\n",
       " 'the',\n",
       " 'students',\n",
       " 'in',\n",
       " 'class',\n",
       " '.',\n",
       " '[SEP]']"
      ]
     },
     "execution_count": 10,
     "metadata": {},
     "output_type": "execute_result"
    }
   ],
   "source": [
    "preds[\"tokens\"]"
   ]
  },
  {
   "cell_type": "code",
   "execution_count": 13,
   "metadata": {},
   "outputs": [
    {
     "name": "stdout",
     "output_type": "stream",
     "text": [
      "['[CLS]', 'The', '[MASK]', 's', '##co', '##lded', 'the', 'students', 'in', 'class', '.', '[SEP]']\n"
     ]
    },
    {
     "data": {
      "text/plain": [
       "(12, 12)"
      ]
     },
     "execution_count": 13,
     "metadata": {},
     "output_type": "execute_result"
    }
   ],
   "source": [
    "print(preds[\"tokens\"])\n",
    "len(preds[\"tokens\"]), len(word_importances)"
   ]
  },
  {
   "cell_type": "code",
   "execution_count": 17,
   "metadata": {},
   "outputs": [
    {
     "name": "stdout",
     "output_type": "stream",
     "text": [
      "Token: [CLS] --- Word Importance: 0.001309904893991275\n",
      "Token: The --- Word Importance: 0.17273694111583823\n",
      "Token: [MASK] --- Word Importance: 0.07378546356247755\n",
      "Token: s --- Word Importance: 0.056029919731955924\n",
      "Token: ##co --- Word Importance: 0.0794455163843453\n",
      "Token: ##lded --- Word Importance: 0.026464214659870276\n",
      "Token: the --- Word Importance: 0.22872306212873822\n",
      "Token: students --- Word Importance: 0.07002156857199943\n",
      "Token: in --- Word Importance: 0.03989856563789363\n",
      "Token: class --- Word Importance: 0.04307570519255765\n",
      "Token: . --- Word Importance: 0.110295562740542\n",
      "Token: [SEP] --- Word Importance: 0.09821361207015106\n"
     ]
    }
   ],
   "source": [
    "for token, word_imp in zip(preds[\"tokens\"], word_importances):\n",
    "    print(f\"Token: {token} --- Word Importance: {word_imp}\")"
   ]
  },
  {
   "cell_type": "code",
   "execution_count": null,
   "metadata": {},
   "outputs": [],
   "source": []
  }
 ],
 "metadata": {
  "kernelspec": {
   "display_name": "fnlp",
   "language": "python",
   "name": "python3"
  },
  "language_info": {
   "codemirror_mode": {
    "name": "ipython",
    "version": 3
   },
   "file_extension": ".py",
   "mimetype": "text/x-python",
   "name": "python",
   "nbconvert_exporter": "python",
   "pygments_lexer": "ipython3",
   "version": "3.10.9"
  },
  "orig_nbformat": 4
 },
 "nbformat": 4,
 "nbformat_minor": 2
}
