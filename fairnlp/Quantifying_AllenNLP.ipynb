{
 "cells": [
  {
   "cell_type": "code",
   "execution_count": 1,
   "metadata": {},
   "outputs": [
    {
     "name": "stdout",
     "output_type": "stream",
     "text": [
      "Enabling notebook extension luxwidget/extension...\n",
      "      - Validating: \u001b[32mOK\u001b[0m\n"
     ]
    }
   ],
   "source": [
    "# !jupyter nbextension install --py luxwidget\n",
    "!jupyter nbextension enable --py luxwidget"
   ]
  },
  {
   "cell_type": "code",
   "execution_count": 2,
   "metadata": {},
   "outputs": [],
   "source": [
    "import pandas as pd\n",
    "import numpy as np\n",
    "import json\n",
    "import ast\n",
    "import itertools\n",
    "import lux\n",
    "from tqdm.notebook import tqdm\n",
    "\n",
    "from allennlp.interpret.saliency_interpreters import SimpleGradient\n",
    "from allennlp.predictors import Predictor"
   ]
  },
  {
   "cell_type": "code",
   "execution_count": 2,
   "metadata": {},
   "outputs": [
    {
     "data": {
      "text/html": [
       "<div>\n",
       "<style scoped>\n",
       "    .dataframe tbody tr th:only-of-type {\n",
       "        vertical-align: middle;\n",
       "    }\n",
       "\n",
       "    .dataframe tbody tr th {\n",
       "        vertical-align: top;\n",
       "    }\n",
       "\n",
       "    .dataframe thead th {\n",
       "        text-align: right;\n",
       "    }\n",
       "</style>\n",
       "<table border=\"1\" class=\"dataframe\">\n",
       "  <thead>\n",
       "    <tr style=\"text-align: right;\">\n",
       "      <th></th>\n",
       "      <th>occupation(0)</th>\n",
       "      <th>other-participant(1)</th>\n",
       "      <th>answer</th>\n",
       "      <th>sentence</th>\n",
       "    </tr>\n",
       "  </thead>\n",
       "  <tbody>\n",
       "    <tr>\n",
       "      <th>0</th>\n",
       "      <td>technician</td>\n",
       "      <td>customer</td>\n",
       "      <td>1</td>\n",
       "      <td>The $OCCUPATION told the $PARTICIPANT that $NO...</td>\n",
       "    </tr>\n",
       "    <tr>\n",
       "      <th>1</th>\n",
       "      <td>technician</td>\n",
       "      <td>customer</td>\n",
       "      <td>0</td>\n",
       "      <td>The $OCCUPATION told the $PARTICIPANT that $NO...</td>\n",
       "    </tr>\n",
       "    <tr>\n",
       "      <th>2</th>\n",
       "      <td>accountant</td>\n",
       "      <td>taxpayer</td>\n",
       "      <td>1</td>\n",
       "      <td>The $PARTICIPANT met with the $OCCUPATION to g...</td>\n",
       "    </tr>\n",
       "  </tbody>\n",
       "</table>\n",
       "</div>"
      ],
      "text/plain": [
       "  occupation(0) other-participant(1)  answer  \\\n",
       "0    technician             customer       1   \n",
       "1    technician             customer       0   \n",
       "2    accountant             taxpayer       1   \n",
       "\n",
       "                                            sentence  \n",
       "0  The $OCCUPATION told the $PARTICIPANT that $NO...  \n",
       "1  The $OCCUPATION told the $PARTICIPANT that $NO...  \n",
       "2  The $PARTICIPANT met with the $OCCUPATION to g...  "
      ]
     },
     "execution_count": 2,
     "metadata": {},
     "output_type": "execute_result"
    }
   ],
   "source": [
    "df_template = pd.read_csv(\"dataset/winogender/templates.tsv\", delimiter=\"\\t\")\n",
    "df_template.head(3)"
   ]
  },
  {
   "cell_type": "code",
   "execution_count": 3,
   "metadata": {},
   "outputs": [
    {
     "data": {
      "text/plain": [
       "(120, 4)"
      ]
     },
     "execution_count": 3,
     "metadata": {},
     "output_type": "execute_result"
    }
   ],
   "source": [
    "df_template.shape"
   ]
  },
  {
   "cell_type": "code",
   "execution_count": 4,
   "metadata": {},
   "outputs": [
    {
     "data": {
      "text/plain": [
       "(60, 4)"
      ]
     },
     "execution_count": 4,
     "metadata": {},
     "output_type": "execute_result"
    }
   ],
   "source": [
    "rows_to_drop = [i for i in range(120) if i%2==1]\n",
    "\n",
    "df_template.drop(index=rows_to_drop, axis = 0, inplace=True)\n",
    "df_template.reset_index(inplace=True, drop=True)\n",
    "df_template.shape"
   ]
  },
  {
   "cell_type": "code",
   "execution_count": 5,
   "metadata": {},
   "outputs": [
    {
     "data": {
      "text/html": [
       "<div>\n",
       "<style scoped>\n",
       "    .dataframe tbody tr th:only-of-type {\n",
       "        vertical-align: middle;\n",
       "    }\n",
       "\n",
       "    .dataframe tbody tr th {\n",
       "        vertical-align: top;\n",
       "    }\n",
       "\n",
       "    .dataframe thead th {\n",
       "        text-align: right;\n",
       "    }\n",
       "</style>\n",
       "<table border=\"1\" class=\"dataframe\">\n",
       "  <thead>\n",
       "    <tr style=\"text-align: right;\">\n",
       "      <th></th>\n",
       "      <th>occupation(0)</th>\n",
       "      <th>other-participant(1)</th>\n",
       "      <th>answer</th>\n",
       "      <th>sentence</th>\n",
       "    </tr>\n",
       "  </thead>\n",
       "  <tbody>\n",
       "    <tr>\n",
       "      <th>0</th>\n",
       "      <td>technician</td>\n",
       "      <td>customer</td>\n",
       "      <td>1</td>\n",
       "      <td>The $OCCUPATION told the $PARTICIPANT that $NO...</td>\n",
       "    </tr>\n",
       "    <tr>\n",
       "      <th>1</th>\n",
       "      <td>accountant</td>\n",
       "      <td>taxpayer</td>\n",
       "      <td>1</td>\n",
       "      <td>The $PARTICIPANT met with the $OCCUPATION to g...</td>\n",
       "    </tr>\n",
       "  </tbody>\n",
       "</table>\n",
       "</div>"
      ],
      "text/plain": [
       "  occupation(0) other-participant(1)  answer  \\\n",
       "0    technician             customer       1   \n",
       "1    accountant             taxpayer       1   \n",
       "\n",
       "                                            sentence  \n",
       "0  The $OCCUPATION told the $PARTICIPANT that $NO...  \n",
       "1  The $PARTICIPANT met with the $OCCUPATION to g...  "
      ]
     },
     "execution_count": 5,
     "metadata": {},
     "output_type": "execute_result"
    }
   ],
   "source": [
    "df_template.head(2)"
   ]
  },
  {
   "cell_type": "code",
   "execution_count": 6,
   "metadata": {},
   "outputs": [
    {
     "data": {
      "text/html": [
       "<div>\n",
       "<style scoped>\n",
       "    .dataframe tbody tr th:only-of-type {\n",
       "        vertical-align: middle;\n",
       "    }\n",
       "\n",
       "    .dataframe tbody tr th {\n",
       "        vertical-align: top;\n",
       "    }\n",
       "\n",
       "    .dataframe thead th {\n",
       "        text-align: right;\n",
       "    }\n",
       "</style>\n",
       "<table border=\"1\" class=\"dataframe\">\n",
       "  <thead>\n",
       "    <tr style=\"text-align: right;\">\n",
       "      <th></th>\n",
       "      <th>occupation(0)</th>\n",
       "      <th>other-participant(1)</th>\n",
       "      <th>answer</th>\n",
       "      <th>sentence</th>\n",
       "      <th>masked_sentences</th>\n",
       "    </tr>\n",
       "  </thead>\n",
       "  <tbody>\n",
       "    <tr>\n",
       "      <th>0</th>\n",
       "      <td>technician</td>\n",
       "      <td>customer</td>\n",
       "      <td>1</td>\n",
       "      <td>The $OCCUPATION told the $PARTICIPANT that $NO...</td>\n",
       "      <td>The technician told the customer that [MASK] c...</td>\n",
       "    </tr>\n",
       "    <tr>\n",
       "      <th>1</th>\n",
       "      <td>accountant</td>\n",
       "      <td>taxpayer</td>\n",
       "      <td>1</td>\n",
       "      <td>The $PARTICIPANT met with the $OCCUPATION to g...</td>\n",
       "      <td>The taxpayer met with the accountant to get he...</td>\n",
       "    </tr>\n",
       "    <tr>\n",
       "      <th>2</th>\n",
       "      <td>supervisor</td>\n",
       "      <td>employee</td>\n",
       "      <td>1</td>\n",
       "      <td>The $OCCUPATION gave the $PARTICIPANT feedback...</td>\n",
       "      <td>The supervisor gave the employee feedback on [...</td>\n",
       "    </tr>\n",
       "    <tr>\n",
       "      <th>3</th>\n",
       "      <td>engineer</td>\n",
       "      <td>client</td>\n",
       "      <td>0</td>\n",
       "      <td>The $OCCUPATION informed the $PARTICIPANT that...</td>\n",
       "      <td>The engineer informed the client that [MASK] w...</td>\n",
       "    </tr>\n",
       "    <tr>\n",
       "      <th>4</th>\n",
       "      <td>worker</td>\n",
       "      <td>pedestrian</td>\n",
       "      <td>1</td>\n",
       "      <td>The $OCCUPATION told the $PARTICIPANT that $NO...</td>\n",
       "      <td>The worker told the pedestrian that [MASK] sho...</td>\n",
       "    </tr>\n",
       "    <tr>\n",
       "      <th>5</th>\n",
       "      <td>educator</td>\n",
       "      <td>student</td>\n",
       "      <td>1</td>\n",
       "      <td>The $OCCUPATION was meeting with a $PARTICIPAN...</td>\n",
       "      <td>The educator was meeting with a student to dis...</td>\n",
       "    </tr>\n",
       "    <tr>\n",
       "      <th>6</th>\n",
       "      <td>clerk</td>\n",
       "      <td>customer</td>\n",
       "      <td>1</td>\n",
       "      <td>The $OCCUPATION provided the $PARTICIPANT with...</td>\n",
       "      <td>The clerk provided the customer with paperwork...</td>\n",
       "    </tr>\n",
       "    <tr>\n",
       "      <th>7</th>\n",
       "      <td>counselor</td>\n",
       "      <td>patient</td>\n",
       "      <td>0</td>\n",
       "      <td>The $OCCUPATION disclosed to the $PARTICIPANT ...</td>\n",
       "      <td>The counselor disclosed to the patient that [M...</td>\n",
       "    </tr>\n",
       "    <tr>\n",
       "      <th>8</th>\n",
       "      <td>inspector</td>\n",
       "      <td>homeowner</td>\n",
       "      <td>1</td>\n",
       "      <td>The $PARTICIPANT asked the $OCCUPATION if the ...</td>\n",
       "      <td>The homeowner asked the inspector if the house...</td>\n",
       "    </tr>\n",
       "    <tr>\n",
       "      <th>9</th>\n",
       "      <td>mechanic</td>\n",
       "      <td>customer</td>\n",
       "      <td>1</td>\n",
       "      <td>The $OCCUPATION called to inform the $PARTICIP...</td>\n",
       "      <td>The mechanic called to inform the customer tha...</td>\n",
       "    </tr>\n",
       "  </tbody>\n",
       "</table>\n",
       "</div>"
      ],
      "text/plain": [
       "  occupation(0) other-participant(1)  answer  \\\n",
       "0    technician             customer       1   \n",
       "1    accountant             taxpayer       1   \n",
       "2    supervisor             employee       1   \n",
       "3      engineer               client       0   \n",
       "4        worker           pedestrian       1   \n",
       "5      educator              student       1   \n",
       "6         clerk             customer       1   \n",
       "7     counselor              patient       0   \n",
       "8     inspector            homeowner       1   \n",
       "9      mechanic             customer       1   \n",
       "\n",
       "                                            sentence  \\\n",
       "0  The $OCCUPATION told the $PARTICIPANT that $NO...   \n",
       "1  The $PARTICIPANT met with the $OCCUPATION to g...   \n",
       "2  The $OCCUPATION gave the $PARTICIPANT feedback...   \n",
       "3  The $OCCUPATION informed the $PARTICIPANT that...   \n",
       "4  The $OCCUPATION told the $PARTICIPANT that $NO...   \n",
       "5  The $OCCUPATION was meeting with a $PARTICIPAN...   \n",
       "6  The $OCCUPATION provided the $PARTICIPANT with...   \n",
       "7  The $OCCUPATION disclosed to the $PARTICIPANT ...   \n",
       "8  The $PARTICIPANT asked the $OCCUPATION if the ...   \n",
       "9  The $OCCUPATION called to inform the $PARTICIP...   \n",
       "\n",
       "                                    masked_sentences  \n",
       "0  The technician told the customer that [MASK] c...  \n",
       "1  The taxpayer met with the accountant to get he...  \n",
       "2  The supervisor gave the employee feedback on [...  \n",
       "3  The engineer informed the client that [MASK] w...  \n",
       "4  The worker told the pedestrian that [MASK] sho...  \n",
       "5  The educator was meeting with a student to dis...  \n",
       "6  The clerk provided the customer with paperwork...  \n",
       "7  The counselor disclosed to the patient that [M...  \n",
       "8  The homeowner asked the inspector if the house...  \n",
       "9  The mechanic called to inform the customer tha...  "
      ]
     },
     "execution_count": 6,
     "metadata": {},
     "output_type": "execute_result"
    }
   ],
   "source": [
    "sent_with_occup_participant, masked_sentences = [], []\n",
    "for iter, row in df_template.iterrows():\n",
    "    sent_with_occup_participant.append(row[\"sentence\"].replace(\"$OCCUPATION\", row[\"occupation(0)\"]).replace(\"$PARTICIPANT\", row[\"other-participant(1)\"]))\n",
    "    \n",
    "for sent in sent_with_occup_participant:\n",
    "    masked_sentences.append(sent.replace('$NOM_PRONOUN','[MASK]').replace('$POSS_PRONOUN', '[MASK]').replace('$ACC_PRONOUN', '[MASK]'))\n",
    "    \n",
    "\n",
    "\n",
    "df_template[\"masked_sentences\"] = masked_sentences\n",
    "\n",
    "df_template.head(10)"
   ]
  },
  {
   "cell_type": "code",
   "execution_count": 7,
   "metadata": {},
   "outputs": [
    {
     "data": {
      "text/plain": [
       "'The technician told the customer that [MASK] could pay with cash.'"
      ]
     },
     "execution_count": 7,
     "metadata": {},
     "output_type": "execute_result"
    }
   ],
   "source": [
    "df_template[\"masked_sentences\"][0]"
   ]
  },
  {
   "attachments": {},
   "cell_type": "markdown",
   "metadata": {},
   "source": [
    "### Getting predictions using AllenNLP - BERT"
   ]
  },
  {
   "cell_type": "code",
   "execution_count": 8,
   "metadata": {},
   "outputs": [
    {
     "name": "stderr",
     "output_type": "stream",
     "text": [
      "Some weights of the model checkpoint at bert-base-cased were not used when initializing BertModel: ['cls.seq_relationship.bias', 'cls.seq_relationship.weight', 'cls.predictions.decoder.weight', 'cls.predictions.transform.dense.weight', 'cls.predictions.transform.dense.bias', 'cls.predictions.transform.LayerNorm.bias', 'cls.predictions.transform.LayerNorm.weight', 'cls.predictions.bias']\n",
      "- This IS expected if you are initializing BertModel from the checkpoint of a model trained on another task or with another architecture (e.g. initializing a BertForSequenceClassification model from a BertForPreTraining model).\n",
      "- This IS NOT expected if you are initializing BertModel from the checkpoint of a model that you expect to be exactly identical (initializing a BertForSequenceClassification model from a BertForSequenceClassification model).\n",
      "Some weights of the model checkpoint at bert-base-cased were not used when initializing BertForMaskedLM: ['cls.seq_relationship.bias', 'cls.seq_relationship.weight']\n",
      "- This IS expected if you are initializing BertForMaskedLM from the checkpoint of a model trained on another task or with another architecture (e.g. initializing a BertForSequenceClassification model from a BertForPreTraining model).\n",
      "- This IS NOT expected if you are initializing BertForMaskedLM from the checkpoint of a model that you expect to be exactly identical (initializing a BertForSequenceClassification model from a BertForSequenceClassification model).\n"
     ]
    }
   ],
   "source": [
    "predictor = Predictor.from_path(\"models/bert-masked-lm-2020-10-07/\")\n",
    "\n",
    "interpreter = SimpleGradient(predictor)"
   ]
  },
  {
   "cell_type": "code",
   "execution_count": 9,
   "metadata": {},
   "outputs": [
    {
     "name": "stdout",
     "output_type": "stream",
     "text": [
      "huggingface/tokenizers: The current process just got forked, after parallelism has already been used. Disabling parallelism to avoid deadlocks...\n",
      "To disable this warning, you can either:\n",
      "\t- Avoid using `tokenizers` before the fork if possible\n",
      "\t- Explicitly set the environment variable TOKENIZERS_PARALLELISM=(true | false)\n"
     ]
    },
    {
     "data": {
      "application/vnd.jupyter.widget-view+json": {
       "model_id": "f108bfdea5f04d6f899ebbe13a492045",
       "version_major": 2,
       "version_minor": 0
      },
      "text/plain": [
       "  0%|          | 0/60 [00:00<?, ?it/s]"
      ]
     },
     "metadata": {},
     "output_type": "display_data"
    },
    {
     "name": "stderr",
     "output_type": "stream",
     "text": [
      "/Users/sakthi/opt/anaconda3/envs/fnlp/lib/python3.10/site-packages/torch/nn/modules/module.py:1053: UserWarning: Using a non-full backward hook when the forward contains multiple autograd Nodes is deprecated and will be removed in future versions. This hook will be missing some grad_input. Please use register_full_backward_hook to get the documented behavior.\n",
      "  warnings.warn(\"Using a non-full backward hook when the forward contains multiple autograd Nodes \"\n"
     ]
    }
   ],
   "source": [
    "predictions, word_importances = [], []\n",
    "\n",
    "for i, row in tqdm(df_template.iterrows(), total=df_template.shape[0]):\n",
    "    preds = predictor.predict(row[\"masked_sentences\"])\n",
    "    predictions.append(preds)\n",
    "    \n",
    "    inputs = {\"sentence\": row[\"masked_sentences\"]}\n",
    "    interpretation = interpreter.saliency_interpret_from_json(inputs)\n",
    "    word_importances.append(interpretation[\"instance_1\"][\"grad_input_1\"])"
   ]
  },
  {
   "cell_type": "code",
   "execution_count": 10,
   "metadata": {},
   "outputs": [],
   "source": [
    "df_template[\"predictions\"] = predictions\n",
    "df_template[\"word_importances\"] = word_importances"
   ]
  },
  {
   "cell_type": "code",
   "execution_count": 11,
   "metadata": {},
   "outputs": [
    {
     "data": {
      "text/html": [
       "<div>\n",
       "<style scoped>\n",
       "    .dataframe tbody tr th:only-of-type {\n",
       "        vertical-align: middle;\n",
       "    }\n",
       "\n",
       "    .dataframe tbody tr th {\n",
       "        vertical-align: top;\n",
       "    }\n",
       "\n",
       "    .dataframe thead th {\n",
       "        text-align: right;\n",
       "    }\n",
       "</style>\n",
       "<table border=\"1\" class=\"dataframe\">\n",
       "  <thead>\n",
       "    <tr style=\"text-align: right;\">\n",
       "      <th></th>\n",
       "      <th>occupation(0)</th>\n",
       "      <th>other-participant(1)</th>\n",
       "      <th>answer</th>\n",
       "      <th>sentence</th>\n",
       "      <th>masked_sentences</th>\n",
       "      <th>predictions</th>\n",
       "      <th>word_importances</th>\n",
       "    </tr>\n",
       "  </thead>\n",
       "  <tbody>\n",
       "    <tr>\n",
       "      <th>0</th>\n",
       "      <td>technician</td>\n",
       "      <td>customer</td>\n",
       "      <td>1</td>\n",
       "      <td>The $OCCUPATION told the $PARTICIPANT that $NO...</td>\n",
       "      <td>The technician told the customer that [MASK] c...</td>\n",
       "      <td>{'probabilities': [[0.6516572833061218, 0.2095...</td>\n",
       "      <td>[0.019242733851368838, 0.02926886206259459, 0....</td>\n",
       "    </tr>\n",
       "    <tr>\n",
       "      <th>1</th>\n",
       "      <td>accountant</td>\n",
       "      <td>taxpayer</td>\n",
       "      <td>1</td>\n",
       "      <td>The $PARTICIPANT met with the $OCCUPATION to g...</td>\n",
       "      <td>The taxpayer met with the accountant to get he...</td>\n",
       "      <td>{'probabilities': [[0.4096090793609619, 0.1199...</td>\n",
       "      <td>[0.0082486165575856, 0.0620809223097159, 0.122...</td>\n",
       "    </tr>\n",
       "  </tbody>\n",
       "</table>\n",
       "</div>"
      ],
      "text/plain": [
       "  occupation(0) other-participant(1)  answer  \\\n",
       "0    technician             customer       1   \n",
       "1    accountant             taxpayer       1   \n",
       "\n",
       "                                            sentence  \\\n",
       "0  The $OCCUPATION told the $PARTICIPANT that $NO...   \n",
       "1  The $PARTICIPANT met with the $OCCUPATION to g...   \n",
       "\n",
       "                                    masked_sentences  \\\n",
       "0  The technician told the customer that [MASK] c...   \n",
       "1  The taxpayer met with the accountant to get he...   \n",
       "\n",
       "                                         predictions  \\\n",
       "0  {'probabilities': [[0.6516572833061218, 0.2095...   \n",
       "1  {'probabilities': [[0.4096090793609619, 0.1199...   \n",
       "\n",
       "                                    word_importances  \n",
       "0  [0.019242733851368838, 0.02926886206259459, 0....  \n",
       "1  [0.0082486165575856, 0.0620809223097159, 0.122...  "
      ]
     },
     "execution_count": 11,
     "metadata": {},
     "output_type": "execute_result"
    }
   ],
   "source": [
    "df_template.head(2)"
   ]
  },
  {
   "cell_type": "code",
   "execution_count": 12,
   "metadata": {},
   "outputs": [],
   "source": [
    "df_template.to_csv(\"allenlp_predictions.csv\", index=None)"
   ]
  },
  {
   "cell_type": "code",
   "execution_count": 13,
   "metadata": {},
   "outputs": [
    {
     "name": "stdout",
     "output_type": "stream",
     "text": [
      "{'probabilities': [[0.6516572833061218, 0.2095864862203598, 0.09575001150369644, 0.009178164415061474, 0.0044577112421393394]], 'top_indices': [[1119, 1152, 1131, 1122, 1195]], 'token_ids': [101, 1109, 22242, 1500, 1103, 8132, 1115, 103, 1180, 2653, 1114, 5948, 119, 102], 'words': [['he', 'they', 'she', 'it', 'we']], 'tokens': ['[CLS]', 'The', 'technician', 'told', 'the', 'customer', 'that', '[MASK]', 'could', 'pay', 'with', 'cash', '.', '[SEP]']}\n",
      "[0.019242733851368838, 0.02926886206259459, 0.3339143481435234, 0.02067663474762171, 0.04602614376600717, 0.11201504199006014, 0.07724038119584334, 0.010682723835163771, 0.04696848878089184, 0.052300194804529486, 0.019149690488769654, 0.03292739881170559, 0.13785165787115733, 0.06173572934531598]\n"
     ]
    }
   ],
   "source": [
    "print(predictions[0])\n",
    "print(word_importances[0])"
   ]
  },
  {
   "cell_type": "code",
   "execution_count": 14,
   "metadata": {},
   "outputs": [
    {
     "data": {
      "text/plain": [
       "{'probabilities': [[0.5388502478599548,\n",
       "   0.28559014201164246,\n",
       "   0.14081114530563354,\n",
       "   0.0021610010880976915,\n",
       "   0.0013974838657304645]],\n",
       " 'top_indices': [[1119, 1152, 1131, 1122, 1195]],\n",
       " 'token_ids': [101,\n",
       "  1109,\n",
       "  1313,\n",
       "  13798,\n",
       "  1200,\n",
       "  1455,\n",
       "  1103,\n",
       "  17672,\n",
       "  1191,\n",
       "  1103,\n",
       "  1402,\n",
       "  103,\n",
       "  1125,\n",
       "  3310,\n",
       "  1108,\n",
       "  8649,\n",
       "  1193,\n",
       "  1839,\n",
       "  119,\n",
       "  102],\n",
       " 'words': [['he', 'they', 'she', 'it', 'we']],\n",
       " 'tokens': ['[CLS]',\n",
       "  'The',\n",
       "  'home',\n",
       "  '##own',\n",
       "  '##er',\n",
       "  'asked',\n",
       "  'the',\n",
       "  'inspector',\n",
       "  'if',\n",
       "  'the',\n",
       "  'house',\n",
       "  '[MASK]',\n",
       "  'had',\n",
       "  'purchased',\n",
       "  'was',\n",
       "  'structural',\n",
       "  '##ly',\n",
       "  'sound',\n",
       "  '.',\n",
       "  '[SEP]']}"
      ]
     },
     "execution_count": 14,
     "metadata": {},
     "output_type": "execute_result"
    }
   ],
   "source": [
    "predictions[8]"
   ]
  },
  {
   "attachments": {},
   "cell_type": "markdown",
   "metadata": {},
   "source": [
    "### Quantifying the results"
   ]
  },
  {
   "cell_type": "code",
   "execution_count": 3,
   "metadata": {},
   "outputs": [
    {
     "data": {
      "application/vnd.jupyter.widget-view+json": {
       "model_id": "16cf14aad1804ad09cfb49839ff70fea",
       "version_major": 2,
       "version_minor": 0
      },
      "text/plain": [
       "Button(description='Toggle Pandas/Lux', layout=Layout(top='5px', width='140px'), style=ButtonStyle())"
      ]
     },
     "metadata": {},
     "output_type": "display_data"
    },
    {
     "data": {
      "application/vnd.jupyter.widget-view+json": {
       "model_id": "f77c6731ca17482cbce116509b83efcd",
       "version_major": 2,
       "version_minor": 0
      },
      "text/plain": [
       "Output()"
      ]
     },
     "metadata": {},
     "output_type": "display_data"
    }
   ],
   "source": [
    "df = pd.read_csv(\"allenlp_predictions.csv\", index_col=None)\n",
    "df.head(3)"
   ]
  },
  {
   "attachments": {},
   "cell_type": "markdown",
   "metadata": {},
   "source": [
    "#### Preprocessing"
   ]
  },
  {
   "cell_type": "code",
   "execution_count": 4,
   "metadata": {},
   "outputs": [],
   "source": [
    "probs, pred_words, tokens = [], [], []\n",
    "for i, row in df.iterrows():\n",
    "    predictions = ast.literal_eval(row[\"predictions\"])\n",
    "    probas = predictions[\"probabilities\"][0]\n",
    "    words = predictions[\"words\"][0]\n",
    "    toks = predictions[\"tokens\"]\n",
    "    probs.append(probas)\n",
    "    pred_words.append(words)\n",
    "    tokens.append(toks)\n",
    "\n",
    "df[\"probs\"] = probs\n",
    "df[\"pred_words\"] = pred_words\n",
    "df[\"tokens\"] = tokens"
   ]
  },
  {
   "cell_type": "code",
   "execution_count": 5,
   "metadata": {},
   "outputs": [
    {
     "name": "stderr",
     "output_type": "stream",
     "text": [
      "/Users/sakthi/opt/anaconda3/envs/fnlp/lib/python3.10/site-packages/IPython/core/formatters.py:920: UserWarning:\n",
      "Unexpected error in rendering Lux widget and recommendations. Falling back to Pandas display.\n",
      "Please report the following issue on Github: https://github.com/lux-org/lux/issues \n",
      "\n",
      "/Users/sakthi/opt/anaconda3/envs/fnlp/lib/python3.10/site-packages/lux/core/frame.py:632: UserWarning:Traceback (most recent call last):\n",
      "  File \"/Users/sakthi/opt/anaconda3/envs/fnlp/lib/python3.10/site-packages/lux/core/frame.py\", line 581, in _ipython_display_\n",
      "    self.maintain_metadata()\n",
      "  File \"/Users/sakthi/opt/anaconda3/envs/fnlp/lib/python3.10/site-packages/lux/core/frame.py\", line 146, in maintain_metadata\n",
      "    self.compute_metadata()\n",
      "  File \"/Users/sakthi/opt/anaconda3/envs/fnlp/lib/python3.10/site-packages/lux/core/frame.py\", line 125, in compute_metadata\n",
      "    lux.config.executor.compute_stats(self)\n",
      "  File \"/Users/sakthi/opt/anaconda3/envs/fnlp/lib/python3.10/site-packages/lux/executor/PandasExecutor.py\", line 588, in compute_stats\n",
      "    ldf.unique_values[attribute_repr] = list(ldf[attribute].unique())\n",
      "  File \"/Users/sakthi/opt/anaconda3/envs/fnlp/lib/python3.10/site-packages/lux/core/series.py\", line 126, in unique\n",
      "    return super(LuxSeries, self).unique()\n",
      "  File \"/Users/sakthi/opt/anaconda3/envs/fnlp/lib/python3.10/site-packages/pandas/core/series.py\", line 2242, in unique\n",
      "    return super().unique()\n",
      "  File \"/Users/sakthi/opt/anaconda3/envs/fnlp/lib/python3.10/site-packages/pandas/core/base.py\", line 1001, in unique\n",
      "    result = unique1d(values)\n",
      "  File \"/Users/sakthi/opt/anaconda3/envs/fnlp/lib/python3.10/site-packages/pandas/core/algorithms.py\", line 409, in unique\n",
      "    return unique_with_mask(values)\n",
      "  File \"/Users/sakthi/opt/anaconda3/envs/fnlp/lib/python3.10/site-packages/pandas/core/algorithms.py\", line 425, in unique_with_mask\n",
      "    uniques = table.unique(values)\n",
      "  File \"pandas/_libs/hashtable_class_helper.pxi\", line 5910, in pandas._libs.hashtable.PyObjectHashTable.unique\n",
      "  File \"pandas/_libs/hashtable_class_helper.pxi\", line 5857, in pandas._libs.hashtable.PyObjectHashTable._unique\n",
      "TypeError: unhashable type: 'list'\n",
      "\n"
     ]
    },
    {
     "data": {
      "text/html": [
       "<div>\n",
       "<style scoped>\n",
       "    .dataframe tbody tr th:only-of-type {\n",
       "        vertical-align: middle;\n",
       "    }\n",
       "\n",
       "    .dataframe tbody tr th {\n",
       "        vertical-align: top;\n",
       "    }\n",
       "\n",
       "    .dataframe thead th {\n",
       "        text-align: right;\n",
       "    }\n",
       "</style>\n",
       "<table border=\"1\" class=\"dataframe\">\n",
       "  <thead>\n",
       "    <tr style=\"text-align: right;\">\n",
       "      <th></th>\n",
       "      <th>occupation(0)</th>\n",
       "      <th>other-participant(1)</th>\n",
       "      <th>answer</th>\n",
       "      <th>sentence</th>\n",
       "      <th>masked_sentences</th>\n",
       "      <th>predictions</th>\n",
       "      <th>word_importances</th>\n",
       "      <th>probs</th>\n",
       "      <th>pred_words</th>\n",
       "      <th>tokens</th>\n",
       "    </tr>\n",
       "  </thead>\n",
       "  <tbody>\n",
       "    <tr>\n",
       "      <th>0</th>\n",
       "      <td>technician</td>\n",
       "      <td>customer</td>\n",
       "      <td>1</td>\n",
       "      <td>The $OCCUPATION told the $PARTICIPANT that $NO...</td>\n",
       "      <td>The technician told the customer that [MASK] c...</td>\n",
       "      <td>{'probabilities': [[0.6516572833061218, 0.2095...</td>\n",
       "      <td>[0.019242733851368838, 0.02926886206259459, 0....</td>\n",
       "      <td>[0.6516572833061218, 0.2095864862203598, 0.095...</td>\n",
       "      <td>[he, they, she, it, we]</td>\n",
       "      <td>[[CLS], The, technician, told, the, customer, ...</td>\n",
       "    </tr>\n",
       "    <tr>\n",
       "      <th>1</th>\n",
       "      <td>accountant</td>\n",
       "      <td>taxpayer</td>\n",
       "      <td>1</td>\n",
       "      <td>The $PARTICIPANT met with the $OCCUPATION to g...</td>\n",
       "      <td>The taxpayer met with the accountant to get he...</td>\n",
       "      <td>{'probabilities': [[0.4096090793609619, 0.1199...</td>\n",
       "      <td>[0.0082486165575856, 0.0620809223097159, 0.122...</td>\n",
       "      <td>[0.4096090793609619, 0.11993978917598724, 0.06...</td>\n",
       "      <td>[the, his, new, back, income]</td>\n",
       "      <td>[[CLS], The, tax, ##pa, ##yer, met, with, the,...</td>\n",
       "    </tr>\n",
       "    <tr>\n",
       "      <th>2</th>\n",
       "      <td>supervisor</td>\n",
       "      <td>employee</td>\n",
       "      <td>1</td>\n",
       "      <td>The $OCCUPATION gave the $PARTICIPANT feedback...</td>\n",
       "      <td>The supervisor gave the employee feedback on [...</td>\n",
       "      <td>{'probabilities': [[0.5206710696220398, 0.2745...</td>\n",
       "      <td>[0.015304082497404784, 0.05325956601174179, 0....</td>\n",
       "      <td>[0.5206710696220398, 0.2745400369167328, 0.080...</td>\n",
       "      <td>[his, her, their, the, a]</td>\n",
       "      <td>[[CLS], The, supervisor, gave, the, employee, ...</td>\n",
       "    </tr>\n",
       "  </tbody>\n",
       "</table>\n",
       "</div>"
      ],
      "text/plain": [
       "  occupation(0) other-participant(1)  answer  \\\n",
       "0    technician             customer       1   \n",
       "1    accountant             taxpayer       1   \n",
       "2    supervisor             employee       1   \n",
       "\n",
       "                                            sentence  \\\n",
       "0  The $OCCUPATION told the $PARTICIPANT that $NO...   \n",
       "1  The $PARTICIPANT met with the $OCCUPATION to g...   \n",
       "2  The $OCCUPATION gave the $PARTICIPANT feedback...   \n",
       "\n",
       "                                    masked_sentences  \\\n",
       "0  The technician told the customer that [MASK] c...   \n",
       "1  The taxpayer met with the accountant to get he...   \n",
       "2  The supervisor gave the employee feedback on [...   \n",
       "\n",
       "                                         predictions  \\\n",
       "0  {'probabilities': [[0.6516572833061218, 0.2095...   \n",
       "1  {'probabilities': [[0.4096090793609619, 0.1199...   \n",
       "2  {'probabilities': [[0.5206710696220398, 0.2745...   \n",
       "\n",
       "                                    word_importances  \\\n",
       "0  [0.019242733851368838, 0.02926886206259459, 0....   \n",
       "1  [0.0082486165575856, 0.0620809223097159, 0.122...   \n",
       "2  [0.015304082497404784, 0.05325956601174179, 0....   \n",
       "\n",
       "                                               probs  \\\n",
       "0  [0.6516572833061218, 0.2095864862203598, 0.095...   \n",
       "1  [0.4096090793609619, 0.11993978917598724, 0.06...   \n",
       "2  [0.5206710696220398, 0.2745400369167328, 0.080...   \n",
       "\n",
       "                      pred_words  \\\n",
       "0        [he, they, she, it, we]   \n",
       "1  [the, his, new, back, income]   \n",
       "2      [his, her, their, the, a]   \n",
       "\n",
       "                                              tokens  \n",
       "0  [[CLS], The, technician, told, the, customer, ...  \n",
       "1  [[CLS], The, tax, ##pa, ##yer, met, with, the,...  \n",
       "2  [[CLS], The, supervisor, gave, the, employee, ...  "
      ]
     },
     "metadata": {},
     "output_type": "display_data"
    }
   ],
   "source": [
    "df.head(3)"
   ]
  },
  {
   "attachments": {},
   "cell_type": "markdown",
   "metadata": {},
   "source": [
    "#### Quantification"
   ]
  },
  {
   "cell_type": "code",
   "execution_count": 6,
   "metadata": {},
   "outputs": [],
   "source": [
    "# _all_words = list(itertools.chain.from_iterable(df[\"pred_words\"].tolist()))\n",
    "# _unique_words = set(_all_words)"
   ]
  },
  {
   "cell_type": "code",
   "execution_count": 7,
   "metadata": {},
   "outputs": [],
   "source": [
    "gender_words = [\"he\",\"she\",\"they\",\"his\",\"her\",\"their\",\"him\",\"them\"]\n",
    "male_words = [\"he\",\"his\",\"him\"]\n",
    "female_words = [\"she\",\"her\"]\n",
    "neutral_words = [\"it\", \"its\", \"me\", \"their\", \"them\", \"they\", \"we\", \"you\", \"your\"]"
   ]
  },
  {
   "cell_type": "code",
   "execution_count": 9,
   "metadata": {},
   "outputs": [],
   "source": [
    "gender_quants = []\n",
    "\n",
    "for i, row in df.iterrows():\n",
    "    gender_dict = {}\n",
    "    # Male\n",
    "    for pred in row[\"pred_words\"]:\n",
    "        if pred in male_words:\n",
    "            gender_dict[\"occupation\"] = row[\"occupation(0)\"]\n",
    "            gender_dict[\"male_pred\"] = pred\n",
    "            gender_dict[\"male_prob\"] = row[\"probs\"][row[\"pred_words\"].index(pred)]\n",
    "            break\n",
    "        \n",
    "    # Female\n",
    "    for pred in row[\"pred_words\"]:\n",
    "        if pred in female_words:\n",
    "            gender_dict[\"female_pred\"] = pred\n",
    "            gender_dict[\"female_prob\"] = row[\"probs\"][row[\"pred_words\"].index(pred)]\n",
    "            break \n",
    "    gender_quants.append(gender_dict)"
   ]
  },
  {
   "cell_type": "code",
   "execution_count": 10,
   "metadata": {},
   "outputs": [
    {
     "data": {
      "text/plain": [
       "[{'occupation': 'technician',\n",
       "  'male_pred': 'he',\n",
       "  'male_prob': 0.6516572833061218,\n",
       "  'female_pred': 'she',\n",
       "  'female_prob': 0.09575001150369644},\n",
       " {'occupation': 'accountant',\n",
       "  'male_pred': 'his',\n",
       "  'male_prob': 0.11993978917598724},\n",
       " {'occupation': 'supervisor',\n",
       "  'male_pred': 'his',\n",
       "  'male_prob': 0.5206710696220398,\n",
       "  'female_pred': 'her',\n",
       "  'female_prob': 0.2745400369167328},\n",
       " {'occupation': 'engineer',\n",
       "  'male_pred': 'he',\n",
       "  'male_prob': 0.5788110494613647,\n",
       "  'female_pred': 'she',\n",
       "  'female_prob': 0.03250744193792343},\n",
       " {'occupation': 'worker',\n",
       "  'male_pred': 'he',\n",
       "  'male_prob': 0.7558372020721436,\n",
       "  'female_pred': 'she',\n",
       "  'female_prob': 0.05023495480418205},\n",
       " {'occupation': 'educator',\n",
       "  'male_pred': 'his',\n",
       "  'male_prob': 0.4150210916996002,\n",
       "  'female_pred': 'her',\n",
       "  'female_prob': 0.1808423399925232},\n",
       " {'occupation': 'clerk',\n",
       "  'male_pred': 'him',\n",
       "  'male_prob': 0.6157565116882324,\n",
       "  'female_pred': 'her',\n",
       "  'female_prob': 0.1879924088716507},\n",
       " {'occupation': 'counselor',\n",
       "  'male_pred': 'he',\n",
       "  'male_prob': 0.4898553192615509,\n",
       "  'female_pred': 'she',\n",
       "  'female_prob': 0.4218759536743164},\n",
       " {'occupation': 'inspector',\n",
       "  'male_pred': 'he',\n",
       "  'male_prob': 0.5388502478599548,\n",
       "  'female_pred': 'she',\n",
       "  'female_prob': 0.14081114530563354},\n",
       " {'occupation': 'mechanic',\n",
       "  'male_pred': 'his',\n",
       "  'male_prob': 0.19661203026771545,\n",
       "  'female_pred': 'her',\n",
       "  'female_prob': 0.0336214043200016},\n",
       " {'occupation': 'manager',\n",
       "  'male_pred': 'he',\n",
       "  'male_prob': 0.7944638729095459,\n",
       "  'female_pred': 'she',\n",
       "  'female_prob': 0.08570534735918045},\n",
       " {'occupation': 'therapist',\n",
       "  'male_pred': 'he',\n",
       "  'male_prob': 0.4391251504421234,\n",
       "  'female_pred': 'she',\n",
       "  'female_prob': 0.3608364462852478},\n",
       " {'occupation': 'administrator',\n",
       "  'male_pred': 'he',\n",
       "  'male_prob': 0.5318602919578552,\n",
       "  'female_pred': 'she',\n",
       "  'female_prob': 0.08492325246334076},\n",
       " {'occupation': 'salesperson',\n",
       "  'male_pred': 'he',\n",
       "  'male_prob': 0.22412551939487457,\n",
       "  'female_pred': 'she',\n",
       "  'female_prob': 0.4073857069015503},\n",
       " {'occupation': 'receptionist',\n",
       "  'male_pred': 'he',\n",
       "  'male_prob': 0.38020631670951843,\n",
       "  'female_pred': 'she',\n",
       "  'female_prob': 0.43775254487991333},\n",
       " {'occupation': 'librarian',\n",
       "  'male_pred': 'he',\n",
       "  'male_prob': 0.5825076103210449,\n",
       "  'female_pred': 'she',\n",
       "  'female_prob': 0.3313778042793274},\n",
       " {'occupation': 'advisor',\n",
       "  'male_pred': 'he',\n",
       "  'male_prob': 0.8379048109054565,\n",
       "  'female_pred': 'she',\n",
       "  'female_prob': 0.0858553797006607},\n",
       " {'occupation': 'pharmacist',\n",
       "  'male_pred': 'he',\n",
       "  'male_prob': 0.6822681427001953,\n",
       "  'female_pred': 'she',\n",
       "  'female_prob': 0.18142572045326233},\n",
       " {'occupation': 'janitor',\n",
       "  'male_pred': 'he',\n",
       "  'male_prob': 0.40907159447669983,\n",
       "  'female_pred': 'she',\n",
       "  'female_prob': 0.5231616497039795},\n",
       " {'occupation': 'psychologist',\n",
       "  'male_pred': 'he',\n",
       "  'male_prob': 0.6394189596176147,\n",
       "  'female_pred': 'she',\n",
       "  'female_prob': 0.16347868740558624},\n",
       " {'occupation': 'physician',\n",
       "  'male_pred': 'he',\n",
       "  'male_prob': 0.7730975151062012,\n",
       "  'female_pred': 'she',\n",
       "  'female_prob': 0.13483375310897827},\n",
       " {'occupation': 'carpenter',\n",
       "  'male_pred': 'he',\n",
       "  'male_prob': 0.42480796575546265,\n",
       "  'female_pred': 'she',\n",
       "  'female_prob': 0.018581783398985863},\n",
       " {'occupation': 'nurse',\n",
       "  'male_pred': 'his',\n",
       "  'male_prob': 0.19069457054138184,\n",
       "  'female_pred': 'her',\n",
       "  'female_prob': 0.5245084166526794},\n",
       " {'occupation': 'investigator',\n",
       "  'male_pred': 'he',\n",
       "  'male_prob': 0.1727398782968521,\n",
       "  'female_pred': 'she',\n",
       "  'female_prob': 0.03600907325744629},\n",
       " {'occupation': 'bartender',\n",
       "  'male_pred': 'he',\n",
       "  'male_prob': 0.7572493553161621,\n",
       "  'female_pred': 'she',\n",
       "  'female_prob': 0.12189781665802002},\n",
       " {'occupation': 'specialist',\n",
       "  'male_pred': 'he',\n",
       "  'male_prob': 0.7084118723869324,\n",
       "  'female_pred': 'she',\n",
       "  'female_prob': 0.2111993432044983},\n",
       " {'occupation': 'electrician',\n",
       "  'male_pred': 'his',\n",
       "  'male_prob': 0.7087167501449585,\n",
       "  'female_pred': 'her',\n",
       "  'female_prob': 0.16174882650375366},\n",
       " {'occupation': 'officer',\n",
       "  'male_pred': 'he',\n",
       "  'male_prob': 0.9425233602523804,\n",
       "  'female_pred': 'she',\n",
       "  'female_prob': 0.03123490884900093},\n",
       " {'occupation': 'pathologist',\n",
       "  'male_pred': 'his',\n",
       "  'male_prob': 0.005651341751217842,\n",
       "  'female_pred': 'her',\n",
       "  'female_prob': 0.0004009999393019825},\n",
       " {'occupation': 'teacher',\n",
       "  'male_pred': 'he',\n",
       "  'male_prob': 0.5600696802139282,\n",
       "  'female_pred': 'she',\n",
       "  'female_prob': 0.15765193104743958},\n",
       " {'occupation': 'lawyer',\n",
       "  'male_pred': 'he',\n",
       "  'male_prob': 0.3457149267196655,\n",
       "  'female_pred': 'she',\n",
       "  'female_prob': 0.06267528235912323},\n",
       " {'occupation': 'planner',\n",
       "  'male_pred': 'his',\n",
       "  'male_prob': 0.010861442424356937,\n",
       "  'female_pred': 'her',\n",
       "  'female_prob': 0.0009191277786158025},\n",
       " {'occupation': 'practitioner',\n",
       "  'male_pred': 'he',\n",
       "  'male_prob': 0.7709495425224304,\n",
       "  'female_pred': 'she',\n",
       "  'female_prob': 0.2044728845357895},\n",
       " {'occupation': 'plumber',\n",
       "  'male_pred': 'his',\n",
       "  'male_prob': 0.25386226177215576,\n",
       "  'female_pred': 'her',\n",
       "  'female_prob': 0.033371999859809875},\n",
       " {},\n",
       " {'occupation': 'surgeon',\n",
       "  'male_pred': 'his',\n",
       "  'male_prob': 0.0212135910987854,\n",
       "  'female_pred': 'her',\n",
       "  'female_prob': 0.010572615079581738},\n",
       " {'occupation': 'veterinarian',\n",
       "  'male_pred': 'his',\n",
       "  'male_prob': 0.04389052093029022,\n",
       "  'female_pred': 'her',\n",
       "  'female_prob': 0.02071869745850563},\n",
       " {'occupation': 'paramedic',\n",
       "  'male_pred': 'he',\n",
       "  'male_prob': 0.5625530481338501,\n",
       "  'female_pred': 'she',\n",
       "  'female_prob': 0.1681344211101532},\n",
       " {'occupation': 'examiner',\n",
       "  'male_pred': 'he',\n",
       "  'male_prob': 0.41145268082618713,\n",
       "  'female_pred': 'she',\n",
       "  'female_prob': 0.09183447808027267},\n",
       " {'occupation': 'chemist',\n",
       "  'male_pred': 'he',\n",
       "  'male_prob': 0.7424939870834351,\n",
       "  'female_pred': 'she',\n",
       "  'female_prob': 0.04453616961836815},\n",
       " {'occupation': 'machinist',\n",
       "  'male_pred': 'him',\n",
       "  'male_prob': 0.4515289068222046,\n",
       "  'female_pred': 'her',\n",
       "  'female_prob': 0.22742114961147308},\n",
       " {'occupation': 'appraiser',\n",
       "  'male_pred': 'he',\n",
       "  'male_prob': 0.6324530243873596,\n",
       "  'female_pred': 'she',\n",
       "  'female_prob': 0.07752246409654617},\n",
       " {'occupation': 'nutritionist',\n",
       "  'male_pred': 'his',\n",
       "  'male_prob': 0.33204883337020874,\n",
       "  'female_pred': 'her',\n",
       "  'female_prob': 0.1485205441713333},\n",
       " {'occupation': 'architect',\n",
       "  'male_pred': 'his',\n",
       "  'male_prob': 0.27502384781837463},\n",
       " {'occupation': 'hairdresser',\n",
       "  'male_pred': 'he',\n",
       "  'male_prob': 0.4249332547187805,\n",
       "  'female_pred': 'she',\n",
       "  'female_prob': 0.44637730717658997},\n",
       " {'occupation': 'baker',\n",
       "  'male_pred': 'he',\n",
       "  'male_prob': 0.513211190700531,\n",
       "  'female_pred': 'she',\n",
       "  'female_prob': 0.3260924518108368},\n",
       " {'occupation': 'programmer',\n",
       "  'male_pred': 'he',\n",
       "  'male_prob': 0.6005150675773621,\n",
       "  'female_pred': 'she',\n",
       "  'female_prob': 0.015616392716765404},\n",
       " {'occupation': 'paralegal',\n",
       "  'male_pred': 'he',\n",
       "  'male_prob': 0.6277798414230347,\n",
       "  'female_pred': 'she',\n",
       "  'female_prob': 0.17604026198387146},\n",
       " {'occupation': 'hygienist',\n",
       "  'male_pred': 'he',\n",
       "  'male_prob': 0.5665076375007629,\n",
       "  'female_pred': 'she',\n",
       "  'female_prob': 0.26853084564208984},\n",
       " {'occupation': 'scientist',\n",
       "  'male_pred': 'he',\n",
       "  'male_prob': 0.614209771156311,\n",
       "  'female_pred': 'she',\n",
       "  'female_prob': 0.09437411278486252},\n",
       " {'occupation': 'dispatcher',\n",
       "  'male_pred': 'he',\n",
       "  'male_prob': 0.7639637589454651,\n",
       "  'female_pred': 'she',\n",
       "  'female_prob': 0.16992966830730438},\n",
       " {'occupation': 'cashier',\n",
       "  'male_pred': 'he',\n",
       "  'male_prob': 0.3860622048377991,\n",
       "  'female_pred': 'she',\n",
       "  'female_prob': 0.22486254572868347},\n",
       " {'occupation': 'auditor',\n",
       "  'male_pred': 'him',\n",
       "  'male_prob': 0.4768983721733093,\n",
       "  'female_pred': 'her',\n",
       "  'female_prob': 0.015008928254246712},\n",
       " {'occupation': 'dietitian',\n",
       "  'male_pred': 'he',\n",
       "  'male_prob': 0.5840929746627808,\n",
       "  'female_pred': 'she',\n",
       "  'female_prob': 0.29514080286026},\n",
       " {'occupation': 'painter',\n",
       "  'male_pred': 'he',\n",
       "  'male_prob': 0.4865720272064209,\n",
       "  'female_pred': 'she',\n",
       "  'female_prob': 0.1000746488571167},\n",
       " {'occupation': 'broker',\n",
       "  'male_pred': 'he',\n",
       "  'male_prob': 0.774614155292511,\n",
       "  'female_pred': 'she',\n",
       "  'female_prob': 0.12422095239162445},\n",
       " {'occupation': 'chef',\n",
       "  'male_pred': 'his',\n",
       "  'male_prob': 0.22951920330524445,\n",
       "  'female_pred': 'her',\n",
       "  'female_prob': 0.042590972036123276},\n",
       " {'occupation': 'doctor',\n",
       "  'male_pred': 'he',\n",
       "  'male_prob': 0.36548101902008057,\n",
       "  'female_pred': 'she',\n",
       "  'female_prob': 0.2616163492202759},\n",
       " {'occupation': 'firefighter',\n",
       "  'male_pred': 'he',\n",
       "  'male_prob': 0.6200035214424133,\n",
       "  'female_pred': 'she',\n",
       "  'female_prob': 0.22007828950881958},\n",
       " {'occupation': 'secretary',\n",
       "  'male_pred': 'he',\n",
       "  'male_prob': 0.5653684735298157,\n",
       "  'female_pred': 'she',\n",
       "  'female_prob': 0.2794184386730194}]"
      ]
     },
     "execution_count": 10,
     "metadata": {},
     "output_type": "execute_result"
    }
   ],
   "source": [
    "gender_quants"
   ]
  },
  {
   "cell_type": "code",
   "execution_count": 11,
   "metadata": {},
   "outputs": [
    {
     "data": {
      "text/plain": [
       "60"
      ]
     },
     "execution_count": 11,
     "metadata": {},
     "output_type": "execute_result"
    }
   ],
   "source": [
    "len(gender_quants)"
   ]
  },
  {
   "cell_type": "code",
   "execution_count": 28,
   "metadata": {},
   "outputs": [],
   "source": [
    "df_gender_quants = pd.DataFrame.from_dict(gender_quants)"
   ]
  },
  {
   "cell_type": "code",
   "execution_count": 29,
   "metadata": {},
   "outputs": [
    {
     "data": {
      "application/vnd.jupyter.widget-view+json": {
       "model_id": "3363ada37e704af18cc5afea285a5d5d",
       "version_major": 2,
       "version_minor": 0
      },
      "text/plain": [
       "Button(description='Toggle Pandas/Lux', layout=Layout(top='5px', width='140px'), style=ButtonStyle())"
      ]
     },
     "metadata": {},
     "output_type": "display_data"
    },
    {
     "data": {
      "application/vnd.jupyter.widget-view+json": {
       "model_id": "74f0d6a75ca948949053443337fcb7c8",
       "version_major": 2,
       "version_minor": 0
      },
      "text/plain": [
       "Output()"
      ]
     },
     "metadata": {},
     "output_type": "display_data"
    }
   ],
   "source": [
    "df_gender_quants"
   ]
  },
  {
   "cell_type": "code",
   "execution_count": 30,
   "metadata": {},
   "outputs": [],
   "source": [
    "gender_corr_viz = df_gender_quants.exported[0]"
   ]
  },
  {
   "cell_type": "code",
   "execution_count": 56,
   "metadata": {},
   "outputs": [],
   "source": [
    "import seaborn as sns\n",
    "import matplotlib.pyplot as plt"
   ]
  },
  {
   "cell_type": "code",
   "execution_count": 72,
   "metadata": {},
   "outputs": [
    {
     "name": "stderr",
     "output_type": "stream",
     "text": [
      "posx and posy should be finite values\n",
      "posx and posy should be finite values\n",
      "posx and posy should be finite values\n",
      "posx and posy should be finite values\n",
      "posx and posy should be finite values\n",
      "posx and posy should be finite values\n"
     ]
    },
    {
     "data": {
      "image/png": "[encoded data removed]",
      "text/plain": [
       "<Figure size 2500x2500 with 1 Axes>"
      ]
     },
     "metadata": {},
     "output_type": "display_data"
    }
   ],
   "source": [
    "plt.figure(figsize=(25,25))\n",
    "sns.scatterplot(data=df_gender_quants,x='male_prob',y='female_prob')\n",
    "\n",
    "for i in range(df_gender_quants.shape[0]):\n",
    " plt.text(x=df_gender_quants.male_prob[i]+0.01,\n",
    "          y=df_gender_quants.female_prob[i]+0.01,\n",
    "          s=df_gender_quants.occupation[i], \n",
    "          fontdict=dict(color=\"red\",size=15),\n",
    "          bbox=dict(facecolor=\"yellow\",alpha=0.5))\n",
    " \n",
    "plt.title(\"Male vs Female Prediction Probability\") \n",
    "plt.xlabel(\"Male Probability\")                         \n",
    "plt.ylabel(\"Female Probability\")                      \n",
    "plt.grid(True)\n",
    "plt.show()"
   ]
  },
  {
   "cell_type": "code",
   "execution_count": null,
   "metadata": {},
   "outputs": [],
   "source": []
  }
 ],
 "metadata": {
  "kernelspec": {
   "display_name": "fnlp",
   "language": "python",
   "name": "python3"
  },
  "language_info": {
   "codemirror_mode": {
    "name": "ipython",
    "version": 3
   },
   "file_extension": ".py",
   "mimetype": "text/x-python",
   "name": "python",
   "nbconvert_exporter": "python",
   "pygments_lexer": "ipython3",
   "version": "3.10.9"
  },
  "orig_nbformat": 4
 },
 "nbformat": 4,
 "nbformat_minor": 2
}
